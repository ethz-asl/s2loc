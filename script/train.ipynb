{
 "cells": [
  {
   "cell_type": "markdown",
   "metadata": {},
   "source": [
    "# S2Loc Training\n",
    "\n",
    "Description: We propose to lear a descriptor of point clouds for global localization. \n",
    "\n",
    "Author: Lukas Bernreiter (lukas.bernreiter@ieee.org)\n"
   ]
  },
  {
   "cell_type": "code",
   "execution_count": 1,
   "metadata": {},
   "outputs": [],
   "source": [
    "from data_source import DataSource\n",
    "from visualize import Visualize\n",
    "from sphere import Sphere\n",
    "from model import Model\n",
    "from loss import TripletLoss, ImprovedTripletLoss\n",
    "from training_set import TrainingSet\n",
    "from average_meter import AverageMeter\n",
    "from data_splitter import DataSplitter\n",
    "\n",
    "import torch\n",
    "import torch.nn.functional as F\n",
    "import torchvision\n",
    "import torchvision.transforms as transforms\n",
    "from torch.autograd import Variable\n",
    "from torch.utils.tensorboard import SummaryWriter\n",
    "from torchsummary import summary\n",
    "\n",
    "import sys\n",
    "import time\n",
    "import math\n",
    "import numpy as np\n",
    "import pandas as pd\n",
    "import matplotlib.pyplot as plt\n",
    "from matplotlib.backends.backend_pdf import PdfPages\n",
    "%matplotlib inline\n",
    "%load_ext autoreload\n",
    "%autoreload 2\n",
    "\n",
    "from tqdm.auto import tqdm\n",
    "from scipy import spatial"
   ]
  },
  {
   "cell_type": "markdown",
   "metadata": {},
   "source": [
    "## Initialize the model and the training set"
   ]
  },
  {
   "cell_type": "code",
   "execution_count": 2,
   "metadata": {},
   "outputs": [
    {
     "name": "stdout",
     "output_type": "stream",
     "text": [
      "1.4.0\n"
     ]
    }
   ],
   "source": [
    "torch.cuda.set_device(0)\n",
    "torch.backends.cudnn.benchmark = True\n",
    "bandwidth = 100\n",
    "net = Model(bandwidth).cuda()\n",
    "optimizer = torch.optim.SGD(net.parameters(), lr=5e-3, momentum=0.9)\n",
    "criterion = ImprovedTripletLoss(margin=2, alpha=0.5, margin2=0.2)\n",
    "restore = False\n",
    "\n",
    "n_epochs = 50\n",
    "batch_size = 12\n",
    "num_workers = 12\n",
    "descriptor_size = 128\n",
    "net_input_size = 2*bandwidth\n",
    "n_features = 3\n",
    "\n",
    "writer = SummaryWriter()\n",
    "model_save = 'net_params_new_1.pkl'\n",
    "\n",
    "print(torch.__version__)\n",
    "#summary(net, input_size=[(3, 200, 200), (3, 200, 200), (3, 200, 200)])"
   ]
  },
  {
   "cell_type": "code",
   "execution_count": 9,
   "metadata": {},
   "outputs": [
    {
     "name": "stdout",
     "output_type": "stream",
     "text": [
      "foo\n",
      "foo\n",
      "torch.Size([2, 2, 200, 200])\n"
     ]
    }
   ],
   "source": [
    "grid_size = 2 * bandwidth\n",
    "#np.rand([2,])\n",
    "(a_dummy, p_dummy, n_dummy) = torch.rand(1, 2, grid_size, grid_size), torch.rand(1, 2, grid_size, grid_size), torch.rand(1, 2, grid_size, grid_size)\n",
    "#traced_net = torch.jit.trace(net, (a_dummy, p_dummy, n_dummy))\n",
    "a_dummy.size(0)    \n",
    "print(\"foo\")\n",
    "for batch_idx, (data1, data2, data3) in enumerate(test_loader):\n",
    "    print(\"foo\")\n",
    "    data1, data2, data3 = data1.cuda().float(), data2.cuda().float(), data3.cuda().float()   \n",
    "    print(data1.shape)\n",
    "    embedded_a, embedded_p, embedded_n = net(data1, data2, data3)\n",
    "    break"
   ]
  },
  {
   "cell_type": "code",
   "execution_count": 3,
   "metadata": {},
   "outputs": [
    {
     "name": "stdout",
     "output_type": "stream",
     "text": [
      "Loading anchors from:\t/media/scratch/berlukas/spherical/training_anchor_pointclouds/ and /media/scratch/berlukas/spherical/training_anchor_sph_images/\n",
      "Loading positives from:\t/media/scratch/berlukas/spherical/training_positive_pointclouds/ and /media/scratch/berlukas/spherical/training_positive_sph_images/\n",
      "Loading negatives from:\t/media/scratch/berlukas/spherical/training_negative_pointclouds/ and /media/scratch/berlukas/spherical/training_negative_sph_images/\n",
      "Done loading dataset.\n",
      "\tAnchor point clouds total: \t100\n",
      "\tAnchor images total: \t\t100\n",
      "\tPositive point clouds total: \t100\n",
      "\tPositive images total: \t\t100\n",
      "\tNegative point clouds total: \t100\n",
      "\tNegative images total: \t\t100\n"
     ]
    }
   ],
   "source": [
    "#ds = DataSource('/mnt/data/datasets/Spherical/training', 1.0)\n",
    "n_load = 100\n",
    "ds = DataSource('/media/scratch/berlukas/spherical', n_load)\n",
    "ds.load(n_load)"
   ]
  },
  {
   "cell_type": "code",
   "execution_count": 4,
   "metadata": {},
   "outputs": [
    {
     "name": "stdout",
     "output_type": "stream",
     "text": [
      "Generating anchor spheres\n"
     ]
    },
    {
     "data": {
      "application/vnd.jupyter.widget-view+json": {
       "model_id": "2a58b8d205bb4563b9d871a286bb1385",
       "version_major": 2,
       "version_minor": 0
      },
      "text/plain": [
       "HBox(children=(FloatProgress(value=0.0), HTML(value='')))"
      ]
     },
     "metadata": {},
     "output_type": "display_data"
    },
    {
     "name": "stdout",
     "output_type": "stream",
     "text": [
      "\n",
      "Generating positive spheres\n"
     ]
    },
    {
     "data": {
      "application/vnd.jupyter.widget-view+json": {
       "model_id": "67774ed7d7e04badb582d8b67b03bec1",
       "version_major": 2,
       "version_minor": 0
      },
      "text/plain": [
       "HBox(children=(FloatProgress(value=0.0), HTML(value='')))"
      ]
     },
     "metadata": {},
     "output_type": "display_data"
    },
    {
     "name": "stdout",
     "output_type": "stream",
     "text": [
      "\n",
      "Generating negative spheres\n"
     ]
    },
    {
     "data": {
      "application/vnd.jupyter.widget-view+json": {
       "model_id": "85bdadc483b240ba82ed238b534021e1",
       "version_major": 2,
       "version_minor": 0
      },
      "text/plain": [
       "HBox(children=(FloatProgress(value=0.0), HTML(value='')))"
      ]
     },
     "metadata": {},
     "output_type": "display_data"
    },
    {
     "name": "stdout",
     "output_type": "stream",
     "text": [
      "\n",
      "Generated features\n",
      "total set size:  100\n"
     ]
    }
   ],
   "source": [
    "train_set = TrainingSet(restore, bandwidth)\n",
    "train_set.generateAll(ds)\n",
    "print(\"total set size: \", len(train_set))"
   ]
  },
  {
   "cell_type": "code",
   "execution_count": 7,
   "metadata": {},
   "outputs": [
    {
     "data": {
      "application/vnd.jupyter.widget-view+json": {
       "model_id": "399288ae79e14764a64f0506e14268c2",
       "version_major": 2,
       "version_minor": 0
      },
      "text/plain": [
       "HBox(children=(FloatProgress(value=0.0, max=10.0), HTML(value='')))"
      ]
     },
     "metadata": {},
     "output_type": "display_data"
    },
    {
     "name": "stdout",
     "output_type": "stream",
     "text": [
      "\n",
      "total set size:  10\n"
     ]
    }
   ],
   "source": [
    "train_set = TrainingSet(restore, bandwidth)\n",
    "train_set.loadTransformedFeatures('/media/scratch/berlukas/transformed_features')\n",
    "print(\"total set size: \", len(train_set))"
   ]
  },
  {
   "cell_type": "code",
   "execution_count": 8,
   "metadata": {},
   "outputs": [
    {
     "name": "stdout",
     "output_type": "stream",
     "text": [
      "Total size:  10\n",
      "Training size:  7\n",
      "Validation size:  1\n",
      "Testing size:  2\n"
     ]
    }
   ],
   "source": [
    "print(\"Total size: \", len(train_set))\n",
    "split = DataSplitter(train_set, restore, shuffle=True)\n",
    "\n",
    "train_loader, val_loader, test_loader = split.get_split(batch_size=batch_size, num_workers=num_workers)\n",
    "train_size = split.get_train_size()\n",
    "val_size = split.get_val_size()\n",
    "test_size = split.get_test_size()\n",
    "print(\"Training size: \", train_size)\n",
    "print(\"Validation size: \", val_size)\n",
    "print(\"Testing size: \", test_size)\n",
    "\n",
    "visualize = False\n",
    "if visualize:\n",
    "    first_anchor = Sphere(ds.anchors_training[0])\n",
    "    len(first_anchor.point_cloud)\n",
    "\n",
    "    viz = Visualize()\n",
    "    viz.visualizeRawPointCloud(first_anchor, True)\n",
    "    viz.visualizeSphere(first_anchor, True)"
   ]
  },
  {
   "cell_type": "code",
   "execution_count": null,
   "metadata": {},
   "outputs": [],
   "source": [
    "grid_size = 2 * bandwidth\n",
    "#np.rand([2,])\n",
    "data = np.random.random_sample((grid_size, grid_size))\n",
    "features = np.zeros([2, 2, grid_size, grid_size]) \n",
    "features[0,0,:] = data; features[0,1,:] = data\n",
    "a_dummy = torch.from_numpy(features)\n",
    "p_dummy = torch.from_numpy(features)\n",
    "n_dummy = torch.from_numpy(features)\n",
    "\n",
    "#(a_dummy, p_dummy, n_dummy) = torch.rand(1, 2, grid_size, grid_size), torch.rand(1, 2, grid_size, grid_size), torch.rand(1, 2, grid_size, grid_size)\n",
    "traced_net = torch.jit.trace(net, (a_dummy, p_dummy, n_dummy))\n",
    "#torch.onnx.export(net, (a_dummy, p_dummy, n_dummy), \"s2cnn-onnx\", verbose=True)\n",
    "\n",
    "a_dummy.size(0)    \n",
    "print(\"foo\")\n",
    "for batch_idx, (data1, data2, data3) in enumerate(test_loader):\n",
    "    print(\"foo\")\n",
    "    data1, data2, data3 = data1.cuda().float(), data2.cuda().float(), data3.cuda().float()   \n",
    "    print(data1.shape)    \n",
    "    embedded_a, embedded_p, embedded_n = net(data1, data2, data3)\n",
    "    #traced_net = torch.jit.trace(net, (data1, data2, data3))\n",
    "    #torch.onnx.export(net, (data1, data2, data3), \"s2cnn-onnx\", verbose=True)\n",
    "    #print(traced_net)\n",
    "    break\n"
   ]
  },
  {
   "cell_type": "markdown",
   "metadata": {},
   "source": [
    "## Train model"
   ]
  },
  {
   "cell_type": "code",
   "execution_count": 10,
   "metadata": {},
   "outputs": [],
   "source": [
    "def adjust_learning_rate_exp(optimizer, epoch_num, lr=5e-3):\n",
    "    decay_rate = 0.96\n",
    "    new_lr = lr * math.pow(decay_rate, epoch_num)\n",
    "    for param_group in optimizer.param_groups:\n",
    "        param_group['lr'] = new_lr\n",
    "\n",
    "    return new_lr\n",
    "\n",
    "val_accs = AverageMeter()\n",
    "#test_set = TrainingSet(ds, bandwidth, False)\n",
    "#test_loader = torch.utils.data.DataLoader(test_set, batch_size=batch_size, shuffle=True, num_workers=num_workers, pin_memory=True, drop_last=True)\n",
    "# record the error of each triplet\n",
    "list_pos = []\n",
    "list_neg = []\n",
    "loss_ = 0\n",
    "\n",
    "def accuracy(dista, distb):\n",
    "    margin = 0\n",
    "    pred = (dista - distb - margin).cpu().data\n",
    "    # print(pred)\n",
    "    acc = ((pred < 0).sum()).float()/dista.size(0)\n",
    "    # print(acc)\n",
    "    return acc\n",
    "\n",
    "def record(dista, distb):\n",
    "    list_pos.append(dista.cpu().data.numpy())\n",
    "    list_neg.append(distb.cpu().data.numpy())"
   ]
  },
  {
   "cell_type": "code",
   "execution_count": 11,
   "metadata": {},
   "outputs": [],
   "source": [
    "def train(net, criterion, optimizer, writer, epoch, n_iter, loss_, t0):\n",
    "    net.train()\n",
    "    for batch_idx, (data1, data2, data3) in enumerate(train_loader):\n",
    "        data1, data2, data3 = data1.cuda().float(), data2.cuda().float(), data3.cuda().float()        \n",
    "        embedded_a, embedded_p, embedded_n = net(data1, data2, data3)\n",
    "        optimizer.zero_grad()\n",
    "\n",
    "        dista, distb, loss_triplet, loss_total = criterion(embedded_a, embedded_p, embedded_n)            \n",
    "        loss_embedd = embedded_a.norm(2) + embedded_p.norm(2) + embedded_n.norm(2)\n",
    "        loss = loss_triplet + 0.001 * loss_embedd\n",
    "        #loss = loss_triplet\n",
    "        \n",
    "        loss.backward()\n",
    "        optimizer.step()\n",
    "        loss_ += loss_total.item()\n",
    "\n",
    "        writer.add_scalar('Train/Loss_Triplet', loss_triplet, n_iter)\n",
    "        writer.add_scalar('Train/Loss_Embedd', loss_embedd, n_iter)\n",
    "        writer.add_scalar('Train/Loss', loss, n_iter)            \n",
    "        n_iter += 1\n",
    "    return n_iter\n",
    "\n",
    "def validate(net, criterion, optimizer, writer, epoch, n_iter):\n",
    "    net.eval()\n",
    "    with torch.no_grad():\n",
    "        for batch_idx, (data1, data2, data3) in enumerate(val_loader):\n",
    "            data1, data2, data3 = data1.cuda().float(), data2.cuda().float(), data3.cuda().float()        \n",
    "            embedded_a, embedded_p, embedded_n = net(data1, data2, data3)\n",
    "            optimizer.zero_grad()\n",
    "\n",
    "            dista, distb, loss_triplet, loss_total = criterion(embedded_a, embedded_p, embedded_n)            \n",
    "            loss_embedd = embedded_a.norm(2) + embedded_p.norm(2) + embedded_n.norm(2)\n",
    "            loss = loss_triplet + 0.001 * loss_embedd\n",
    "\n",
    "            \n",
    "            acc = accuracy(dista, distb)\n",
    "            val_accs.update(acc, data1.size(0))\n",
    "            writer.add_scalar('Validation/Loss_Triplet', loss_triplet, n_iter)\n",
    "            writer.add_scalar('Validation/Loss_Embedd', loss_embedd, n_iter)\n",
    "            writer.add_scalar('Validation/Loss', loss, n_iter)\n",
    "            writer.add_scalar('Validation/Accuracy', val_accs.avg, n_iter)\n",
    "            n_iter += 1\n",
    "    return n_iter\n",
    "\n",
    "def test(net, criterion, writer):\n",
    "    with open('test_indices.txt','wb') as f:\n",
    "        np.savetxt(f, np.array(split.test_indices), fmt='%d')\n",
    "\n",
    "    n_iter = 0\n",
    "    net.eval()\n",
    "    test_accs = AverageMeter()\n",
    "    test_pos_dist = AverageMeter()\n",
    "    test_neg_dist = AverageMeter()\n",
    "    anchor_embeddings = np.empty(1)\n",
    "    positive_embeddings = np.empty(1)\n",
    "    with torch.no_grad():\n",
    "        for batch_idx, (data1, data2, data3) in enumerate(test_loader):\n",
    "                embedded_a, embedded_p, embedded_n = net(data1.cuda().float(), data2.cuda().float(), data3.cuda().float())\n",
    "                dist_to_pos, dist_to_neg, loss, loss_total = criterion(embedded_a, embedded_p, embedded_n)\n",
    "                writer.add_scalar('Test/Loss', loss, n_iter)\n",
    "\n",
    "                acc = accuracy(dist_to_pos, dist_to_neg)\n",
    "                test_accs.update(acc, data1.size(0))\n",
    "                test_pos_dist.update(dist_to_pos.cpu().data.numpy().sum())\n",
    "                test_neg_dist.update(dist_to_neg.cpu().data.numpy().sum())\n",
    "\n",
    "                writer.add_scalar('Test/Accuracy', test_accs.avg, n_iter)\n",
    "                writer.add_scalar('Test/Distance/Positive', test_pos_dist.avg, n_iter)\n",
    "                writer.add_scalar('Test/Distance/Negative', test_neg_dist.avg, n_iter)\n",
    "\n",
    "                anchor_embeddings = np.append(anchor_embeddings, embedded_a.cpu().data.numpy().reshape([1,-1]))\n",
    "                positive_embeddings = np.append(positive_embeddings, embedded_p.cpu().data.numpy().reshape([1,-1]))\n",
    "                #anchor_embeddings[n_iter] = embedded_a.cpu().data.numpy()\n",
    "                #positive_embeddings[n_iter] = embedded_p.cpu().data.numpy()\n",
    "                n_iter = n_iter + 1\n",
    "\n",
    "    desc_anchors = anchor_embeddings[1:].reshape([test_size, descriptor_size])\n",
    "    desc_positives = positive_embeddings[1:].reshape([test_size, descriptor_size])\n",
    "\n",
    "    sys.setrecursionlimit(50000)\n",
    "    tree = spatial.KDTree(desc_positives)\n",
    "    p_norm = 2\n",
    "    max_pos_dist = 1.5\n",
    "    max_anchor_dist = 2\n",
    "    for n_nearest_neighbors in range(1,21):\n",
    "        pos_count = 0\n",
    "        anchor_count = 0\n",
    "        idx_count = 0\n",
    "        for idx in range(test_size):\n",
    "            nn_dists, nn_indices = tree.query(desc_anchors[idx,:], p = p_norm, k = n_nearest_neighbors)\n",
    "            nn_indices = [nn_indices] if n_nearest_neighbors == 1 else nn_indices\n",
    "\n",
    "            for nn_i in nn_indices:\n",
    "                if (nn_i >= test_size):\n",
    "                    break;\n",
    "                dist = spatial.distance.euclidean(desc_positives[nn_i,:], desc_positives[idx,:])\n",
    "                if (dist <= max_pos_dist):\n",
    "                    pos_count = pos_count + 1;\n",
    "                    break\n",
    "            for nn_i in nn_indices:\n",
    "                if (nn_i >= test_size):\n",
    "                    break;\n",
    "                dist = spatial.distance.euclidean(desc_positives[nn_i,:], desc_anchors[idx,:])\n",
    "                if (dist <= max_anchor_dist):\n",
    "                    anchor_count = anchor_count + 1;\n",
    "                    break\n",
    "            for nn_i in nn_indices:\n",
    "                if (nn_i == idx):\n",
    "                    idx_count = idx_count + 1;\n",
    "                    break\n",
    "        pos_precision = (pos_count*1.0) / test_size\n",
    "        anchor_precision = (anchor_count*1.0) / test_size\n",
    "        idx_precision = (idx_count*1.0) / test_size\n",
    "        writer.add_scalar('Test/Precision/Positive_Distance', pos_precision, n_nearest_neighbors)\n",
    "        writer.add_scalar('Test/Precision/Anchor_Distance', anchor_precision, n_nearest_neighbors)\n",
    "        writer.add_scalar('Test/Precision/Index_Count', idx_precision, n_nearest_neighbors)"
   ]
  },
  {
   "cell_type": "code",
   "execution_count": null,
   "metadata": {},
   "outputs": [],
   "source": [
    "if not restore:    \n",
    "    train_iter = 0\n",
    "    val_iter = 0\n",
    "    loss_ = 0.0\n",
    "    n_epochs = 10\n",
    "    print(f'Starting training using {n_epochs} epochs');\n",
    "    for epoch in tqdm(range(n_epochs)):\n",
    "        lr = adjust_learning_rate_exp(optimizer, epoch_num=epoch)\n",
    "        t0 = time.time()\n",
    "\n",
    "        train_iter = train(net, criterion, optimizer, writer, epoch, train_iter, loss_, t0)\n",
    "\n",
    "        val_iter = validate(net, criterion, optimizer, writer, epoch, val_iter)\n",
    "\n",
    "        writer.add_scalar('Train/lr', lr, epoch)\n",
    "        torch.save(net.state_dict(), model_save)    \n",
    "    print('training finished!')    \n",
    "else:\n",
    "    net.load_state_dict(torch.load(model_save))"
   ]
  },
  {
   "cell_type": "code",
   "execution_count": 11,
   "metadata": {},
   "outputs": [
    {
     "name": "stdout",
     "output_type": "stream",
     "text": [
      "> <ipython-input-7-d18974a0d38d>(79)test()\n",
      "-> desc_anchors = anchor_embeddings[1:].reshape([test_size, descriptor_size])\n"
     ]
    },
    {
     "name": "stdin",
     "output_type": "stream",
     "text": [
      "(Pdb)  continue\n"
     ]
    }
   ],
   "source": [
    "test(net, criterion, writer)"
   ]
  },
  {
   "cell_type": "code",
   "execution_count": 12,
   "metadata": {},
   "outputs": [],
   "source": [
    "writer.close()"
   ]
  }
 ],
 "metadata": {
  "kernelspec": {
   "display_name": "Python 3",
   "language": "python",
   "name": "python3"
  },
  "language_info": {
   "codemirror_mode": {
    "name": "ipython",
    "version": 3
   },
   "file_extension": ".py",
   "mimetype": "text/x-python",
   "name": "python",
   "nbconvert_exporter": "python",
   "pygments_lexer": "ipython3",
   "version": "3.6.7"
  }
 },
 "nbformat": 4,
 "nbformat_minor": 4
}
