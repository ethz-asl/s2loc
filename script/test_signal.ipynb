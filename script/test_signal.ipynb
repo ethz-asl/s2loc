{
 "cells": [
  {
   "cell_type": "markdown",
   "metadata": {},
   "source": [
    "# Test Spherical Signal Generation\n",
    "\n",
    "## Description\n",
    "This notebook provides a test script to generate the spherical features for input. "
   ]
  },
  {
   "cell_type": "code",
   "execution_count": 1,
   "metadata": {},
   "outputs": [],
   "source": [
    "from data_source import DataSource\n",
    "from visualize import Visualize\n",
    "from sphere import Sphere\n",
    "import sys\n",
    "import time\n",
    "import math\n",
    "import numpy as np\n",
    "import pandas as pd\n",
    "import matplotlib.pyplot as plt\n",
    "from matplotlib.backends.backend_pdf import PdfPages\n",
    "import open3d as o3d\n",
    "\n",
    "%load_ext autoreload\n",
    "%autoreload 2\n",
    "%matplotlib inline"
   ]
  },
  {
   "cell_type": "markdown",
   "metadata": {},
   "source": [
    "## Load the spherical image"
   ]
  },
  {
   "cell_type": "code",
   "execution_count": 2,
   "metadata": {},
   "outputs": [
    {
     "name": "stdout",
     "output_type": "stream",
     "text": [
      "Original shape  (131072, 4)\n",
      "Original shape  (131072, 4)\n"
     ]
    }
   ],
   "source": [
    "ds = DataSource('')\n",
    "#sph_image_cart = ds.loadPointCloudFromPath('/tmp/training/training_anchor_sph_images/000000000000001.ply')\n",
    "cloud = ds.loadPointCloudFromPath('/tmp/training/training_anchor_pointclouds/000000000000001.ply')\n",
    "#img_feat = np.reshape(sph_image_cart.transpose(), (4,200,200))\n",
    "print('Original shape ', cloud.shape)\n",
    "T = np.array(\n",
    "        [[0.9997770641962381,  0.016299234847643,  -0.01344410000000, 0.0331989],\n",
    "         [-0.016286738363819,   0.999867935740224,  0.001094290000000, -0.121313],\n",
    "         [0.01346018117580,   -0.00087509685356,   0.999909000000000, 0.15737],\n",
    "         [0, 0, 0, 1]])\n",
    "\n",
    "\n",
    "pcd = o3d.geometry.PointCloud()\n",
    "pcd.points = o3d.utility.Vector3dVector(cloud[:, 0:3])\n",
    "pcd.transform(T)\n",
    "dst = np.asarray(pcd.points)\n",
    "transformed = np.column_stack((dst, cloud[:,3]))\n",
    "print('Original shape ', transformed.shape)\n",
    "\n",
    "viz = Visualize()\n",
    "sphere = Sphere(transformed)\n",
    "#viz.visualizeSphere(sphere, True)\n",
    "viz.visualizeRawPointCloud(sphere, False)"
   ]
  },
  {
   "cell_type": "code",
   "execution_count": 97,
   "metadata": {},
   "outputs": [],
   "source": [
    "sphere = Sphere(sph_image_cart)\n",
    "viz = Visualize()\n",
    "#viz.visualizeCartesianSphere(sph_image_cart, False)\n",
    "viz.visualizeSphere(sphere, True)"
   ]
  },
  {
   "cell_type": "code",
   "execution_count": 111,
   "metadata": {},
   "outputs": [
    {
     "data": {
      "text/plain": [
       "(40000, 3)"
      ]
     },
     "execution_count": 111,
     "metadata": {},
     "output_type": "execute_result"
    }
   ],
   "source": [
    "sphere = Sphere(sph_image_cart)\n",
    "cart_sphere = sphere.getProjectedInCartesian()\n",
    "cart_sphere.shape\n",
    "#sphere.intensity.shape\n",
    "#np.column_stack((cart_sphere, sphere.intensity))\n",
    "#test = np.append(cart_sphere, sphere.intensity, axis=1)"
   ]
  },
  {
   "cell_type": "code",
   "execution_count": 125,
   "metadata": {},
   "outputs": [
    {
     "ename": "AttributeError",
     "evalue": "'PlyData' object has no attribute 'shape'",
     "output_type": "error",
     "traceback": [
      "\u001b[0;31m---------------------------------------------------------------------------\u001b[0m",
      "\u001b[0;31mAttributeError\u001b[0m                            Traceback (most recent call last)",
      "\u001b[0;32m<ipython-input-125-10c7a9fb014c>\u001b[0m in \u001b[0;36m<module>\u001b[0;34m\u001b[0m\n\u001b[1;32m      2\u001b[0m \u001b[0mplydata\u001b[0m \u001b[0;34m=\u001b[0m \u001b[0mPlyData\u001b[0m\u001b[0;34m.\u001b[0m\u001b[0mread\u001b[0m\u001b[0;34m(\u001b[0m\u001b[0;34m'/tmp/training/training_anchor_pointclouds/000000000000001.ply'\u001b[0m\u001b[0;34m)\u001b[0m\u001b[0;34m\u001b[0m\u001b[0;34m\u001b[0m\u001b[0m\n\u001b[1;32m      3\u001b[0m \u001b[0;34m'scalar2'\u001b[0m \u001b[0;32min\u001b[0m \u001b[0mplydata\u001b[0m\u001b[0;34m[\u001b[0m\u001b[0;34m'vertex'\u001b[0m\u001b[0;34m]\u001b[0m\u001b[0;34m.\u001b[0m\u001b[0m_property_lookup\u001b[0m\u001b[0;34m\u001b[0m\u001b[0;34m\u001b[0m\u001b[0m\n\u001b[0;32m----> 4\u001b[0;31m \u001b[0mplydata\u001b[0m\u001b[0;34m.\u001b[0m\u001b[0mshape\u001b[0m\u001b[0;34m\u001b[0m\u001b[0;34m\u001b[0m\u001b[0m\n\u001b[0m",
      "\u001b[0;31mAttributeError\u001b[0m: 'PlyData' object has no attribute 'shape'"
     ]
    }
   ],
   "source": [
    "from plyfile import PlyData, PlyElement\n",
    "plydata = PlyData.read('/tmp/training/training_anchor_pointclouds/000000000000001.ply')\n",
    "'scalar2' in plydata['vertex']._property_lookup"
   ]
  },
  {
   "cell_type": "code",
   "execution_count": 87,
   "metadata": {},
   "outputs": [
    {
     "data": {
      "text/plain": [
       "3"
      ]
     },
     "execution_count": 87,
     "metadata": {},
     "output_type": "execute_result"
    }
   ],
   "source": [
    "test = np.zeros((3, 200, 200))\n",
    "f12 = np.ones((2,200,200))*1\n",
    "f3 = np.ones((1, 200, 200))*2\n",
    "\n",
    "test[0,:,:] = f12[0,:,:]\n",
    "test[1,:,:] = f12[1,:,:]\n",
    "test[2,:,:] = f3[0,:,:]\n"
   ]
  },
  {
   "cell_type": "code",
   "execution_count": 93,
   "metadata": {},
   "outputs": [
    {
     "data": {
      "text/plain": [
       "0.0"
      ]
     },
     "execution_count": 93,
     "metadata": {},
     "output_type": "execute_result"
    }
   ],
   "source": [
    "features = [np.zeros((3, 200, 200))]*10\n",
    "features[0][1,1,1]"
   ]
  },
  {
   "cell_type": "code",
   "execution_count": null,
   "metadata": {},
   "outputs": [],
   "source": []
  }
 ],
 "metadata": {
  "kernelspec": {
   "display_name": "pytorch-venv",
   "language": "python",
   "name": "pytorch-venv"
  },
  "language_info": {
   "codemirror_mode": {
    "name": "ipython",
    "version": 3
   },
   "file_extension": ".py",
   "mimetype": "text/x-python",
   "name": "python",
   "nbconvert_exporter": "python",
   "pygments_lexer": "ipython3",
   "version": "3.6.9"
  }
 },
 "nbformat": 4,
 "nbformat_minor": 4
}
