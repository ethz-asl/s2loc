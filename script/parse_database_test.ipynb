{
 "cells": [
  {
   "cell_type": "markdown",
   "metadata": {},
   "source": [
    "# Parse LC databases\n",
    "\n",
    "This script tests on how to parse the databases for cams and images.\n",
    "\n"
   ]
  },
  {
   "cell_type": "code",
   "execution_count": 1,
   "metadata": {},
   "outputs": [],
   "source": [
    "import pandas"
   ]
  },
  {
   "cell_type": "markdown",
   "metadata": {},
   "source": [
    "## Read Cam and LiDAR database\n"
   ]
  },
  {
   "cell_type": "code",
   "execution_count": 12,
   "metadata": {},
   "outputs": [
    {
     "name": "stdout",
     "output_type": "stream",
     "text": [
      "Reading lidar db from /mnt/data/datasets/Spherical/test_training/lidar_ts.csv\n",
      "Reading cam db from /mnt/data/datasets/Spherical/test_training/cam_ts.csv\n",
      "\n",
      "Read 1816 and 1816 entries.\n"
     ]
    }
   ],
   "source": [
    "dataset_path = '/mnt/data/datasets/Spherical/test_training/'\n",
    "lidar_ts_db_path = dataset_path + 'lidar_ts.csv'\n",
    "cam_ts_db_path = dataset_path + 'cam_ts.csv'\n",
    "\n",
    "print(f'Reading lidar db from {lidar_ts_db_path}')\n",
    "print(f'Reading cam db from {cam_ts_db_path}')\n",
    "\n",
    "lidar_df = pandas.read_csv(lidar_ts_db, names=['mission_from', 'ts_from', 'mission_to', 'ts_to'], delimiter=';', header=None)\n",
    "cam_df = pandas.read_csv(cam_ts_db, names=['mission_from', 'ts_from', 'mission_to', 'ts_to'], delimiter=';', header=None)\n",
    "\n",
    "print(f'\\nRead {lidar_df.size} and {cam_df.size} entries.')"
   ]
  },
  {
   "cell_type": "code",
   "execution_count": 82,
   "metadata": {},
   "outputs": [
    {
     "name": "stdout",
     "output_type": "stream",
     "text": [
      "Processing training mission: 8d1b..0000\n",
      "Processing training mission: 25b1..0000\n",
      "Processing training mission: ef8b..0000\n",
      "Processing training mission: b03a..0000\n",
      "Processing training mission: 0167..0000\n",
      "Processing training mission: 472b..0000\n",
      "Processing training mission: 0282..0000\n",
      "Processing training mission: e2da..0000\n",
      "Processing training mission: 8a4a..0000\n",
      "Processing training mission: 657d..0000\n",
      "Processing training mission: f760..0000\n",
      "Processing training mission: 73cc..0000\n",
      "Processing training mission: 0569..0000\n",
      "Processing training mission: 174e..0000\n",
      "Processing training mission: b52f..0000\n",
      "    index\n",
      "0       0\n",
      "1       1\n",
      "2       2\n",
      "3       3\n",
      "4       5\n",
      "..    ...\n",
      "7     442\n",
      "0     384\n",
      "1     418\n",
      "0     423\n",
      "1     444\n",
      "\n",
      "[307 rows x 1 columns]\n",
      "Processing test mission: 89de..0000\n",
      "Processing test mission: 96af..0000\n",
      "Processing test mission: d530..0000\n",
      "Processing test mission: d662..0000\n",
      "Processing test mission: 62d2..0000\n",
      "Processing test mission: 6fec..0000\n",
      "Processing test mission: d778..0000\n",
      "    index\n",
      "1      10\n",
      "11    139\n",
      "12    159\n",
      "13    185\n",
      "14    213\n",
      "15    241\n",
      "0       9\n",
      "1      14\n",
      "3      24\n",
      "5      33\n",
      "7      42\n",
      "9      56\n",
      "11     70\n",
      "13     85\n",
      "15    101\n",
      "17    117\n",
      "19    134\n",
      "30    268\n",
      "40    433\n",
      "4     138\n",
      "5     158\n",
      "6     184\n",
      "7     212\n",
      "8     240\n",
      "9     269\n"
     ]
    }
   ],
   "source": [
    "training_missions = ['8d1b..0000', '25b1..0000', 'ef8b..0000', 'b03a..0000', '0167..0000', '472b..0000', '0282..0000', 'e2da..0000', '8a4a..0000', '657d..0000', 'f760..0000', '73cc..0000', '0569..0000', '174e..0000', 'b52f..0000']\n",
    "test_missions = ['89de..0000', '96af..0000', 'd530..0000', 'd662..0000', '62d2..0000', '6fec..0000', 'd778..0000', ]\n",
    "\n",
    "training_indices_lidar = pandas.DataFrame()\n",
    "training_indices_cam = pandas.DataFrame()\n",
    "\n",
    "for i in range(0, len(training_missions)):\n",
    "    print(f'Processing training mission: {training_missions[i]}')\n",
    "    current_lidar_df = lidar_df[lidar_df['mission_from'] == training_missions[i]]\n",
    "    current_lidar_df = current_lidar_df[current_lidar_df['mission_to'].isin(training_missions)]\n",
    "    index_lidar_df = pandas.DataFrame({'index': current_lidar_df.index})    \n",
    "    training_indices_lidar = training_indices_lidar.append(index_lidar_df)\n",
    "    \n",
    "    current_cam_df = cam_df[cam_df['mission_from'] == training_missions[i]]\n",
    "    current_cam_df = current_cam_df[current_cam_df['mission_to'].isin(training_missions)]\n",
    "    index_cam_df = pandas.DataFrame({'index': current_cam_df.index})        \n",
    "    training_indices_cam = training_indices_cam.append(index_cam_df)\n",
    "    \n",
    "training_indices_lidar.drop_duplicates()\n",
    "training_indices_cam.drop_duplicates()\n",
    "training_indices = training_indices_lidar.join(training_indices_cam.set_index('index'), on='index', how='inner')\n",
    "print(training_indices)\n",
    "\n",
    "test_indices_lidar = pandas.DataFrame()\n",
    "test_indices_cam = pandas.DataFrame()\n",
    "    \n",
    "for i in range(0, len(test_missions)):\n",
    "    print(f'Processing test mission: {test_missions[i]}')\n",
    "    current_lidar_df = lidar_df[lidar_df['mission_from'] == test_missions[i]]\n",
    "    current_lidar_df = current_lidar_df[current_lidar_df['mission_to'].isin(test_missions)]\n",
    "    index_lidar_df = pandas.DataFrame({'index': current_lidar_df.index})    \n",
    "    test_indices_lidar = test_indices_lidar.append(index_lidar_df)\n",
    "    \n",
    "    current_cam_df = cam_df[cam_df['mission_from'] == test_missions[i]]\n",
    "    current_cam_df = current_cam_df[current_cam_df['mission_to'].isin(test_missions)]\n",
    "    index_cam_df = pandas.DataFrame({'index': current_cam_df.index})        \n",
    "    test_indices_cam = test_indices_cam.append(index_cam_df)\n",
    "    \n",
    "test_indices_lidar.drop_duplicates()\n",
    "test_indices_cam.drop_duplicates()\n",
    "test_indices = test_indices_lidar.join(test_indices_cam.set_index('index'), on='index', how='inner')\n",
    "print(test_indices)\n",
    "\n",
    "cross_join = test_indices.join(training_indices.set_index('index'), on='index', how='inner')\n",
    "assert(cross_join.size == 0)"
   ]
  },
  {
   "cell_type": "code",
   "execution_count": null,
   "metadata": {},
   "outputs": [],
   "source": []
  }
 ],
 "metadata": {
  "kernelspec": {
   "display_name": "pytorch-venv",
   "language": "python",
   "name": "pytorch-venv"
  },
  "language_info": {
   "codemirror_mode": {
    "name": "ipython",
    "version": 3
   },
   "file_extension": ".py",
   "mimetype": "text/x-python",
   "name": "python",
   "nbconvert_exporter": "python",
   "pygments_lexer": "ipython3",
   "version": "3.6.9"
  }
 },
 "nbformat": 4,
 "nbformat_minor": 4
}
