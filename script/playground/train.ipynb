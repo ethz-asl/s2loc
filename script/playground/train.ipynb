{
 "cells": [
  {
   "cell_type": "markdown",
   "metadata": {},
   "source": [
    "# S2Loc Training\n",
    "\n",
    "Description: We propose to lear a descriptor of point clouds for global localization. \n",
    "\n",
    "Author: Lukas Bernreiter (lukas.bernreiter@ieee.org)\n"
   ]
  },
  {
   "cell_type": "code",
   "execution_count": 4,
   "metadata": {},
   "outputs": [
    {
     "name": "stdout",
     "output_type": "stream",
     "text": [
      "The autoreload extension is already loaded. To reload it, use:\n",
      "  %reload_ext autoreload\n"
     ]
    }
   ],
   "source": [
    "from data_source import DataSource\n",
    "from visualize import Visualize\n",
    "from sphere import Sphere\n",
    "from model import Model\n",
    "from loss import TripletLoss, ImprovedTripletLoss\n",
    "from training_set import TrainingSet\n",
    "from average_meter import AverageMeter\n",
    "from data_splitter import DataSplitter\n",
    "from database_parser import DatabaseParser\n",
    "from mission_indices import MissionIndices\n",
    "\n",
    "import torch\n",
    "import torch.nn.functional as F\n",
    "import torchvision\n",
    "import torchvision.transforms as transforms\n",
    "from torch.autograd import Variable\n",
    "from torch.utils.tensorboard import SummaryWriter\n",
    "from torchsummary import summary\n",
    "\n",
    "import sys\n",
    "import time\n",
    "import math\n",
    "import numpy as np\n",
    "import pandas as pd\n",
    "import matplotlib.pyplot as plt\n",
    "from matplotlib.backends.backend_pdf import PdfPages\n",
    "%matplotlib inline\n",
    "%load_ext autoreload\n",
    "%autoreload 2\n",
    "\n",
    "from tqdm.auto import tqdm\n",
    "from scipy import spatial"
   ]
  },
  {
   "cell_type": "markdown",
   "metadata": {},
   "source": [
    "## Initialize the model and the training set"
   ]
  },
  {
   "cell_type": "code",
   "execution_count": 5,
   "metadata": {},
   "outputs": [
    {
     "name": "stdout",
     "output_type": "stream",
     "text": [
      "1.4.0\n"
     ]
    }
   ],
   "source": [
    "torch.cuda.set_device(0)\n",
    "torch.backends.cudnn.benchmark = True\n",
    "bandwidth = 100\n",
    "net = Model(bandwidth).cuda()\n",
    "optimizer = torch.optim.SGD(net.parameters(), lr=5e-3, momentum=0.9)\n",
    "criterion = ImprovedTripletLoss(margin=2, alpha=0.5, margin2=0.2)\n",
    "restore = False\n",
    "\n",
    "n_epochs = 50\n",
    "batch_size = 15\n",
    "num_workers = 12\n",
    "descriptor_size = 256\n",
    "net_input_size = 2*bandwidth\n",
    "n_features = 3\n",
    "\n",
    "writer = SummaryWriter()\n",
    "model_save = 'net_params_new_1.pkl'\n",
    "\n",
    "print(torch.__version__)\n",
    "#summary(net, input_size=[(3, 200, 200), (3, 200, 200), (3, 200, 200)])"
   ]
  },
  {
   "cell_type": "code",
   "execution_count": 6,
   "metadata": {},
   "outputs": [
    {
     "name": "stdout",
     "output_type": "stream",
     "text": [
      "Reading missions db from /home/berlukas/data/arche_low_res2/missions.csv\n",
      "Read 21253 entries.\n"
     ]
    },
    {
     "data": {
      "application/vnd.jupyter.widget-view+json": {
       "model_id": "f0416a2aa77046b19e095e95409c5f63",
       "version_major": 2,
       "version_minor": 0
      },
      "text/plain": [
       "HBox(children=(FloatProgress(value=0.0, max=4.0), HTML(value='')))"
      ]
     },
     "metadata": {},
     "output_type": "display_data"
    },
    {
     "name": "stdout",
     "output_type": "stream",
     "text": [
      "\n"
     ]
    },
    {
     "data": {
      "application/vnd.jupyter.widget-view+json": {
       "model_id": "cae7ff64acba4ac6bca432c28d5c8fdf",
       "version_major": 2,
       "version_minor": 0
      },
      "text/plain": [
       "HBox(children=(FloatProgress(value=0.0, max=2.0), HTML(value='')))"
      ]
     },
     "metadata": {},
     "output_type": "display_data"
    },
    {
     "name": "stdout",
     "output_type": "stream",
     "text": [
      "\n",
      "Loading anchors from:\t/home/berlukas/data/arche_low_res2//training_anchor_pointclouds/ and /home/berlukas/data/arche_low_res2//training_anchor_sph_images/\n"
     ]
    },
    {
     "data": {
      "application/vnd.jupyter.widget-view+json": {
       "model_id": "3b86c2f014444d868d211f0e2e2017ad",
       "version_major": 2,
       "version_minor": 0
      },
      "text/plain": [
       "HBox(children=(FloatProgress(value=0.0), HTML(value='')))"
      ]
     },
     "metadata": {},
     "output_type": "display_data"
    },
    {
     "name": "stdout",
     "output_type": "stream",
     "text": [
      "\n"
     ]
    },
    {
     "data": {
      "application/vnd.jupyter.widget-view+json": {
       "model_id": "8c214440d41b4a85b5376087a3e07bdd",
       "version_major": 2,
       "version_minor": 0
      },
      "text/plain": [
       "HBox(children=(FloatProgress(value=0.0), HTML(value='')))"
      ]
     },
     "metadata": {},
     "output_type": "display_data"
    },
    {
     "name": "stdout",
     "output_type": "stream",
     "text": [
      "\n",
      "Loading positives from:\t/home/berlukas/data/arche_low_res2//training_positive_pointclouds/ and /home/berlukas/data/arche_low_res2//training_positive_sph_images/\n"
     ]
    },
    {
     "data": {
      "application/vnd.jupyter.widget-view+json": {
       "model_id": "358b279f587643d7926e99d2e96b7454",
       "version_major": 2,
       "version_minor": 0
      },
      "text/plain": [
       "HBox(children=(FloatProgress(value=0.0), HTML(value='')))"
      ]
     },
     "metadata": {},
     "output_type": "display_data"
    },
    {
     "name": "stdout",
     "output_type": "stream",
     "text": [
      "\n"
     ]
    },
    {
     "data": {
      "application/vnd.jupyter.widget-view+json": {
       "model_id": "0079f635fc2443389c2cf428cb366649",
       "version_major": 2,
       "version_minor": 0
      },
      "text/plain": [
       "HBox(children=(FloatProgress(value=0.0), HTML(value='')))"
      ]
     },
     "metadata": {},
     "output_type": "display_data"
    },
    {
     "name": "stdout",
     "output_type": "stream",
     "text": [
      "\n",
      "Loading negatives from:\t/home/berlukas/data/arche_low_res2//training_negative_pointclouds/ and /home/berlukas/data/arche_low_res2//training_negative_sph_images/\n"
     ]
    },
    {
     "data": {
      "application/vnd.jupyter.widget-view+json": {
       "model_id": "8ae601a636b54a549a3d454ab7b50f6d",
       "version_major": 2,
       "version_minor": 0
      },
      "text/plain": [
       "HBox(children=(FloatProgress(value=0.0), HTML(value='')))"
      ]
     },
     "metadata": {},
     "output_type": "display_data"
    },
    {
     "name": "stdout",
     "output_type": "stream",
     "text": [
      "\n"
     ]
    },
    {
     "data": {
      "application/vnd.jupyter.widget-view+json": {
       "model_id": "4f8204c253bd4a63b564b764f3f40266",
       "version_major": 2,
       "version_minor": 0
      },
      "text/plain": [
       "HBox(children=(FloatProgress(value=0.0), HTML(value='')))"
      ]
     },
     "metadata": {},
     "output_type": "display_data"
    },
    {
     "name": "stdout",
     "output_type": "stream",
     "text": [
      "\n",
      "Done loading dataset.\n",
      "\tAnchor point clouds total: \t100\n",
      "\tAnchor images total: \t\t100\n",
      "\tAnchor poses total: \t\t100\n",
      "\tPositive point clouds total: \t100\n",
      "\tPositive images total: \t\t100\n",
      "\tPositive poses total: \t\t100\n",
      "\tNegative point clouds total: \t100\n",
      "\tNegative images total: \t\t100\n",
      "\tNegative poses total: \t\t100\n"
     ]
    }
   ],
   "source": [
    "n_data = 100\n",
    "cache = 100\n",
    "#dataset_path = \"/mnt/data/datasets/Spherical/training\"\n",
    "#dataset_path = \"/media/scratch/berlukas/spherical/\"\n",
    "dataset_path = \"/home/berlukas/data/arche_low_res2/\"\n",
    "db_parser = DatabaseParser(dataset_path)\n",
    "\n",
    "training_missions, test_missions = MissionIndices.get_arche_low_res()\n",
    "#training_missions, test_missions = MissionIndices.get_arche_high_res()\n",
    "training_indices, test_indices = db_parser.extract_training_and_test_indices(\n",
    "    training_missions, test_missions)\n",
    "idx = np.array(training_indices['idx'].tolist())\n",
    "\n",
    "ds = DataSource(dataset_path, cache)\n",
    "ds.load(n_data, idx, filter_clusters=False)"
   ]
  },
  {
   "cell_type": "code",
   "execution_count": 8,
   "metadata": {},
   "outputs": [
    {
     "data": {
      "text/plain": [
       "20364356"
      ]
     },
     "execution_count": 8,
     "metadata": {},
     "output_type": "execute_result"
    }
   ],
   "source": [
    "np.count_nonzero(ds.anchors)"
   ]
  },
  {
   "cell_type": "code",
   "execution_count": null,
   "metadata": {},
   "outputs": [
    {
     "name": "stdout",
     "output_type": "stream",
     "text": [
      "Generating features from 0 to 100\n",
      "Generating anchor spheres\n"
     ]
    }
   ],
   "source": [
    "train_set = TrainingSet(restore, bandwidth)\n",
    "generate_features = True\n",
    "if generate_features:\n",
    "    #ds.load(n_data, idx, filter_clusters=False)\n",
    "    train_set.generateAll(ds)\n",
    "    anchor_poses = ds.anchor_poses\n",
    "    positive_poses = ds.positive_poses\n",
    "    negative_poses = ds.negative_poses\n",
    "    train_set.exportGeneratedFeatures('/home/berlukas/data/spherical')\n",
    "else:\n",
    "    anchor_poses,positive_poses,negative_poses = train_set.loadFeatures('/home/berlukas/data/spherical')\n",
    "\n",
    "# hack for removing the images\n",
    "print(train_set.anchor_features.shape)\n",
    "train_set.anchor_features = train_set.anchor_features[:,0:2,:,:]\n",
    "train_set.positive_features = train_set.positive_features[:,0:2,:,:]\n",
    "train_set.negative_features = train_set.negative_features[:,0:2,:,:]\n",
    "\n",
    "print(\"total set size: \", len(train_set))"
   ]
  },
  {
   "cell_type": "code",
   "execution_count": 13,
   "metadata": {},
   "outputs": [
    {
     "data": {
      "text/plain": [
       "0"
      ]
     },
     "execution_count": 13,
     "metadata": {},
     "output_type": "execute_result"
    }
   ],
   "source": [
    "np.count_nonzero(train_set.anchor_features[0,0,:,:])"
   ]
  },
  {
   "cell_type": "code",
   "execution_count": 7,
   "metadata": {},
   "outputs": [
    {
     "name": "stdout",
     "output_type": "stream",
     "text": [
      "Total size:  100\n",
      "Training size:  72\n",
      "Validation size:  8\n",
      "Testing size:  20\n"
     ]
    }
   ],
   "source": [
    "print(\"Total size: \", len(train_set))\n",
    "split = DataSplitter(train_set, restore, shuffle=True)\n",
    "\n",
    "train_loader, val_loader, test_loader = split.get_split(batch_size=batch_size, num_workers=num_workers)\n",
    "train_size = split.get_train_size()\n",
    "val_size = split.get_val_size()\n",
    "test_size = split.get_test_size()\n",
    "print(\"Training size: \", train_size)\n",
    "print(\"Validation size: \", val_size)\n",
    "print(\"Testing size: \", test_size)\n",
    "\n",
    "visualize = False\n",
    "if visualize:\n",
    "    first_anchor = Sphere(ds.anchors_training[0])\n",
    "    len(first_anchor.point_cloud)\n",
    "\n",
    "    viz = Visualize()\n",
    "    viz.visualizeRawPointCloud(first_anchor, True)\n",
    "    viz.visualizeSphere(first_anchor, True)"
   ]
  },
  {
   "cell_type": "code",
   "execution_count": null,
   "metadata": {},
   "outputs": [],
   "source": [
    "grid_size = 2 * bandwidth\n",
    "#np.rand([2,])\n",
    "data = np.random.random_sample((grid_size, grid_size))\n",
    "features = np.zeros([2, 2, grid_size, grid_size]) \n",
    "features[0,0,:] = data; features[0,1,:] = data\n",
    "a_dummy = torch.from_numpy(features)\n",
    "p_dummy = torch.from_numpy(features)\n",
    "n_dummy = torch.from_numpy(features)\n",
    "\n",
    "#(a_dummy, p_dummy, n_dummy) = torch.rand(1, 2, grid_size, grid_size), torch.rand(1, 2, grid_size, grid_size), torch.rand(1, 2, grid_size, grid_size)\n",
    "traced_net = torch.jit.trace(net, (a_dummy, p_dummy, n_dummy))\n",
    "#torch.onnx.export(net, (a_dummy, p_dummy, n_dummy), \"s2cnn-onnx\", verbose=True)\n",
    "\n",
    "a_dummy.size(0)    \n",
    "print(\"foo\")\n",
    "for batch_idx, (data1, data2, data3) in enumerate(test_loader):\n",
    "    print(\"foo\")\n",
    "    data1, data2, data3 = data1.cuda().float(), data2.cuda().float(), data3.cuda().float()   \n",
    "    print(data1.shape)    \n",
    "    embedded_a, embedded_p, embedded_n = net(data1, data2, data3)\n",
    "    #traced_net = torch.jit.trace(net, (data1, data2, data3))\n",
    "    #torch.onnx.export(net, (data1, data2, data3), \"s2cnn-onnx\", verbose=True)\n",
    "    #print(traced_net)\n",
    "    break\n"
   ]
  },
  {
   "cell_type": "markdown",
   "metadata": {},
   "source": [
    "## Train model"
   ]
  },
  {
   "cell_type": "code",
   "execution_count": 8,
   "metadata": {},
   "outputs": [],
   "source": [
    "def adjust_learning_rate_exp(optimizer, epoch_num, lr=5e-3):\n",
    "    decay_rate = 0.96\n",
    "    new_lr = lr * math.pow(decay_rate, epoch_num)\n",
    "    for param_group in optimizer.param_groups:\n",
    "        param_group['lr'] = new_lr\n",
    "\n",
    "    return new_lr\n",
    "\n",
    "val_accs = AverageMeter()\n",
    "#test_set = TrainingSet(ds, bandwidth, False)\n",
    "#test_loader = torch.utils.data.DataLoader(test_set, batch_size=batch_size, shuffle=True, num_workers=num_workers, pin_memory=True, drop_last=True)\n",
    "# record the error of each triplet\n",
    "list_pos = []\n",
    "list_neg = []\n",
    "loss_ = 0\n",
    "\n",
    "def accuracy(dista, distb):\n",
    "    margin = 0\n",
    "    pred = (dista - distb - margin).cpu().data\n",
    "    # print(pred)\n",
    "    acc = ((pred < 0).sum()).float()/dista.size(0)\n",
    "    # print(acc)\n",
    "    return acc\n",
    "\n",
    "def record(dista, distb):\n",
    "    list_pos.append(dista.cpu().data.numpy())\n",
    "    list_neg.append(distb.cpu().data.numpy())"
   ]
  },
  {
   "cell_type": "code",
   "execution_count": 9,
   "metadata": {},
   "outputs": [],
   "source": [
    "def train(net, criterion, optimizer, writer, epoch, n_iter, loss_, t0):\n",
    "    net.train()\n",
    "    for batch_idx, (data1, data2, data3) in enumerate(train_loader):\n",
    "        data1, data2, data3 = data1.cuda().float(), data2.cuda().float(), data3.cuda().float()        \n",
    "        embedded_a, embedded_p, embedded_n = net(data1, data2, data3)\n",
    "        optimizer.zero_grad()\n",
    "\n",
    "        dista, distb, loss_triplet, loss_total = criterion(embedded_a, embedded_p, embedded_n)            \n",
    "        loss_embedd = embedded_a.norm(2) + embedded_p.norm(2) + embedded_n.norm(2)\n",
    "        loss = loss_triplet + 0.001 * loss_embedd\n",
    "        #loss = loss_triplet\n",
    "                        \n",
    "        loss.backward()\n",
    "        optimizer.step()\n",
    "        loss_ += loss_total.item()\n",
    "\n",
    "        writer.add_scalar('Train/Loss_Triplet', loss_triplet, n_iter)\n",
    "        writer.add_scalar('Train/Loss_Embedd', loss_embedd, n_iter)\n",
    "        writer.add_scalar('Train/Loss', loss, n_iter)            \n",
    "        n_iter += 1\n",
    "    return n_iter\n",
    "\n",
    "def validate(net, criterion, optimizer, writer, epoch, n_iter):\n",
    "    net.eval()\n",
    "    with torch.no_grad():\n",
    "        for batch_idx, (data1, data2, data3) in enumerate(val_loader):\n",
    "            data1, data2, data3 = data1.cuda().float(), data2.cuda().float(), data3.cuda().float()        \n",
    "            embedded_a, embedded_p, embedded_n = net(data1, data2, data3)\n",
    "            optimizer.zero_grad()\n",
    "\n",
    "            dista, distb, loss_triplet, loss_total = criterion(embedded_a, embedded_p, embedded_n)            \n",
    "            loss_embedd = embedded_a.norm(2) + embedded_p.norm(2) + embedded_n.norm(2)\n",
    "            loss = loss_triplet + 0.001 * loss_embedd\n",
    "\n",
    "            \n",
    "            acc = accuracy(dista, distb)\n",
    "            val_accs.update(acc, data1.size(0))\n",
    "            writer.add_scalar('Validation/Loss_Triplet', loss_triplet, n_iter)\n",
    "            writer.add_scalar('Validation/Loss_Embedd', loss_embedd, n_iter)\n",
    "            writer.add_scalar('Validation/Loss', loss, n_iter)\n",
    "            writer.add_scalar('Validation/Accuracy', val_accs.avg, n_iter)\n",
    "            n_iter += 1\n",
    "    return n_iter\n",
    "\n",
    "def test(net, criterion, writer):\n",
    "    with open('test_indices.txt','wb') as f:\n",
    "        np.savetxt(f, np.array(split.test_indices), fmt='%d')\n",
    "\n",
    "    n_iter = 0\n",
    "    net.eval()\n",
    "    test_accs = AverageMeter()\n",
    "    test_pos_dist = AverageMeter()\n",
    "    test_neg_dist = AverageMeter()\n",
    "    anchor_embeddings = np.empty(1)\n",
    "    positive_embeddings = np.empty(1)\n",
    "    with torch.no_grad():\n",
    "        for batch_idx, (data1, data2, data3) in enumerate(test_loader):\n",
    "                embedded_a, embedded_p, embedded_n = net(data1.cuda().float(), data2.cuda().float(), data3.cuda().float())\n",
    "                dist_to_pos, dist_to_neg, loss, loss_total = criterion(embedded_a, embedded_p, embedded_n)\n",
    "                writer.add_scalar('Test/Loss', loss, n_iter)\n",
    "\n",
    "                acc = accuracy(dist_to_pos, dist_to_neg)\n",
    "                test_accs.update(acc, data1.size(0))\n",
    "                test_pos_dist.update(dist_to_pos.cpu().data.numpy().sum())\n",
    "                test_neg_dist.update(dist_to_neg.cpu().data.numpy().sum())\n",
    "\n",
    "                writer.add_scalar('Test/Accuracy', test_accs.avg, n_iter)\n",
    "                writer.add_scalar('Test/Distance/Positive', test_pos_dist.avg, n_iter)\n",
    "                writer.add_scalar('Test/Distance/Negative', test_neg_dist.avg, n_iter)\n",
    "\n",
    "                anchor_embeddings = np.append(anchor_embeddings, embedded_a.cpu().data.numpy().reshape([1,-1]))\n",
    "                positive_embeddings = np.append(positive_embeddings, embedded_p.cpu().data.numpy().reshape([1,-1]))\n",
    "                #anchor_embeddings[n_iter] = embedded_a.cpu().data.numpy()\n",
    "                #positive_embeddings[n_iter] = embedded_p.cpu().data.numpy()\n",
    "                n_iter = n_iter + 1\n",
    "\n",
    "    desc_anchors = anchor_embeddings[1:].reshape([test_size, descriptor_size])\n",
    "    desc_positives = positive_embeddings[1:].reshape([test_size, descriptor_size])\n",
    "\n",
    "    sys.setrecursionlimit(50000)\n",
    "    tree = spatial.KDTree(desc_positives)\n",
    "    p_norm = 2\n",
    "    max_pos_dist = 1.5\n",
    "    max_anchor_dist = 2\n",
    "    for n_nearest_neighbors in range(1,21):\n",
    "        pos_count = 0\n",
    "        anchor_count = 0\n",
    "        idx_count = 0\n",
    "        for idx in range(test_size):\n",
    "            nn_dists, nn_indices = tree.query(desc_anchors[idx,:], p = p_norm, k = n_nearest_neighbors)\n",
    "            nn_indices = [nn_indices] if n_nearest_neighbors == 1 else nn_indices\n",
    "\n",
    "            for nn_i in nn_indices:\n",
    "                if (nn_i >= test_size):\n",
    "                    break;\n",
    "                dist = spatial.distance.euclidean(desc_positives[nn_i,:], desc_positives[idx,:])\n",
    "                if (dist <= max_pos_dist):\n",
    "                    pos_count = pos_count + 1;\n",
    "                    break\n",
    "            for nn_i in nn_indices:\n",
    "                if (nn_i >= test_size):\n",
    "                    break;\n",
    "                dist = spatial.distance.euclidean(desc_positives[nn_i,:], desc_anchors[idx,:])\n",
    "                if (dist <= max_anchor_dist):\n",
    "                    anchor_count = anchor_count + 1;\n",
    "                    break\n",
    "            for nn_i in nn_indices:\n",
    "                if (nn_i == idx):\n",
    "                    idx_count = idx_count + 1;\n",
    "                    break\n",
    "        pos_precision = (pos_count*1.0) / test_size\n",
    "        anchor_precision = (anchor_count*1.0) / test_size\n",
    "        idx_precision = (idx_count*1.0) / test_size\n",
    "        writer.add_scalar('Test/Precision/Positive_Distance', pos_precision, n_nearest_neighbors)\n",
    "        writer.add_scalar('Test/Precision/Anchor_Distance', anchor_precision, n_nearest_neighbors)\n",
    "        writer.add_scalar('Test/Precision/Index_Count', idx_precision, n_nearest_neighbors)"
   ]
  },
  {
   "cell_type": "code",
   "execution_count": 10,
   "metadata": {},
   "outputs": [
    {
     "name": "stdout",
     "output_type": "stream",
     "text": [
      "Starting training using 5 epochs\n"
     ]
    },
    {
     "data": {
      "application/vnd.jupyter.widget-view+json": {
       "model_id": "7ddcaf6fd10b406d81c96c2b11cc1628",
       "version_major": 2,
       "version_minor": 0
      },
      "text/plain": [
       "HBox(children=(FloatProgress(value=0.0, max=5.0), HTML(value='')))"
      ]
     },
     "metadata": {},
     "output_type": "display_data"
    },
    {
     "ename": "TypeError",
     "evalue": "can't convert CUDA tensor to numpy. Use Tensor.cpu() to copy the tensor to host memory first.",
     "output_type": "error",
     "traceback": [
      "\u001b[0;31m---------------------------------------------------------------------------\u001b[0m",
      "\u001b[0;31mTypeError\u001b[0m                                 Traceback (most recent call last)",
      "\u001b[0;32m<ipython-input-10-5dd2d0d98efe>\u001b[0m in \u001b[0;36m<module>\u001b[0;34m\u001b[0m\n\u001b[1;32m      9\u001b[0m         \u001b[0mt0\u001b[0m \u001b[0;34m=\u001b[0m \u001b[0mtime\u001b[0m\u001b[0;34m.\u001b[0m\u001b[0mtime\u001b[0m\u001b[0;34m(\u001b[0m\u001b[0;34m)\u001b[0m\u001b[0;34m\u001b[0m\u001b[0;34m\u001b[0m\u001b[0m\n\u001b[1;32m     10\u001b[0m \u001b[0;34m\u001b[0m\u001b[0m\n\u001b[0;32m---> 11\u001b[0;31m         \u001b[0mtrain_iter\u001b[0m \u001b[0;34m=\u001b[0m \u001b[0mtrain\u001b[0m\u001b[0;34m(\u001b[0m\u001b[0mnet\u001b[0m\u001b[0;34m,\u001b[0m \u001b[0mcriterion\u001b[0m\u001b[0;34m,\u001b[0m \u001b[0moptimizer\u001b[0m\u001b[0;34m,\u001b[0m \u001b[0mwriter\u001b[0m\u001b[0;34m,\u001b[0m \u001b[0mepoch\u001b[0m\u001b[0;34m,\u001b[0m \u001b[0mtrain_iter\u001b[0m\u001b[0;34m,\u001b[0m \u001b[0mloss_\u001b[0m\u001b[0;34m,\u001b[0m \u001b[0mt0\u001b[0m\u001b[0;34m)\u001b[0m\u001b[0;34m\u001b[0m\u001b[0;34m\u001b[0m\u001b[0m\n\u001b[0m\u001b[1;32m     12\u001b[0m         \u001b[0;32mif\u001b[0m \u001b[0;34m(\u001b[0m\u001b[0mtrain_iter\u001b[0m \u001b[0;34m==\u001b[0m \u001b[0;34m-\u001b[0m\u001b[0;36m1\u001b[0m\u001b[0;34m)\u001b[0m\u001b[0;34m:\u001b[0m\u001b[0;34m\u001b[0m\u001b[0;34m\u001b[0m\u001b[0m\n\u001b[1;32m     13\u001b[0m             \u001b[0mprint\u001b[0m\u001b[0;34m(\u001b[0m\u001b[0;34m'LOSS is NaN. Aborting'\u001b[0m\u001b[0;34m)\u001b[0m\u001b[0;34m\u001b[0m\u001b[0;34m\u001b[0m\u001b[0m\n",
      "\u001b[0;32m<ipython-input-9-31c0fe779b02>\u001b[0m in \u001b[0;36mtrain\u001b[0;34m(net, criterion, optimizer, writer, epoch, n_iter, loss_, t0)\u001b[0m\n\u001b[1;32m     11\u001b[0m         \u001b[0;31m#loss = loss_triplet\u001b[0m\u001b[0;34m\u001b[0m\u001b[0;34m\u001b[0m\u001b[0;34m\u001b[0m\u001b[0m\n\u001b[1;32m     12\u001b[0m \u001b[0;34m\u001b[0m\u001b[0m\n\u001b[0;32m---> 13\u001b[0;31m         \u001b[0;32mif\u001b[0m \u001b[0mnp\u001b[0m\u001b[0;34m.\u001b[0m\u001b[0misnan\u001b[0m\u001b[0;34m(\u001b[0m\u001b[0mloss\u001b[0m\u001b[0;34m)\u001b[0m\u001b[0;34m:\u001b[0m\u001b[0;34m\u001b[0m\u001b[0;34m\u001b[0m\u001b[0m\n\u001b[0m\u001b[1;32m     14\u001b[0m             \u001b[0;32mreturn\u001b[0m \u001b[0;34m-\u001b[0m\u001b[0;36m1\u001b[0m\u001b[0;34m\u001b[0m\u001b[0;34m\u001b[0m\u001b[0m\n\u001b[1;32m     15\u001b[0m \u001b[0;34m\u001b[0m\u001b[0m\n",
      "\u001b[0;32m~/workspace/python/pytorch-venv/lib/python3.6/site-packages/torch/tensor.py\u001b[0m in \u001b[0;36m__array__\u001b[0;34m(self, dtype)\u001b[0m\n\u001b[1;32m    484\u001b[0m     \u001b[0;32mdef\u001b[0m \u001b[0m__array__\u001b[0m\u001b[0;34m(\u001b[0m\u001b[0mself\u001b[0m\u001b[0;34m,\u001b[0m \u001b[0mdtype\u001b[0m\u001b[0;34m=\u001b[0m\u001b[0;32mNone\u001b[0m\u001b[0;34m)\u001b[0m\u001b[0;34m:\u001b[0m\u001b[0;34m\u001b[0m\u001b[0;34m\u001b[0m\u001b[0m\n\u001b[1;32m    485\u001b[0m         \u001b[0;32mif\u001b[0m \u001b[0mdtype\u001b[0m \u001b[0;32mis\u001b[0m \u001b[0;32mNone\u001b[0m\u001b[0;34m:\u001b[0m\u001b[0;34m\u001b[0m\u001b[0;34m\u001b[0m\u001b[0m\n\u001b[0;32m--> 486\u001b[0;31m             \u001b[0;32mreturn\u001b[0m \u001b[0mself\u001b[0m\u001b[0;34m.\u001b[0m\u001b[0mnumpy\u001b[0m\u001b[0;34m(\u001b[0m\u001b[0;34m)\u001b[0m\u001b[0;34m\u001b[0m\u001b[0;34m\u001b[0m\u001b[0m\n\u001b[0m\u001b[1;32m    487\u001b[0m         \u001b[0;32melse\u001b[0m\u001b[0;34m:\u001b[0m\u001b[0;34m\u001b[0m\u001b[0;34m\u001b[0m\u001b[0m\n\u001b[1;32m    488\u001b[0m             \u001b[0;32mreturn\u001b[0m \u001b[0mself\u001b[0m\u001b[0;34m.\u001b[0m\u001b[0mnumpy\u001b[0m\u001b[0;34m(\u001b[0m\u001b[0;34m)\u001b[0m\u001b[0;34m.\u001b[0m\u001b[0mastype\u001b[0m\u001b[0;34m(\u001b[0m\u001b[0mdtype\u001b[0m\u001b[0;34m,\u001b[0m \u001b[0mcopy\u001b[0m\u001b[0;34m=\u001b[0m\u001b[0;32mFalse\u001b[0m\u001b[0;34m)\u001b[0m\u001b[0;34m\u001b[0m\u001b[0;34m\u001b[0m\u001b[0m\n",
      "\u001b[0;31mTypeError\u001b[0m: can't convert CUDA tensor to numpy. Use Tensor.cpu() to copy the tensor to host memory first."
     ]
    }
   ],
   "source": [
    "if not restore:    \n",
    "    train_iter = 0\n",
    "    val_iter = 0\n",
    "    loss_ = 0.0\n",
    "    n_epochs = 5\n",
    "    print(f'Starting training using {n_epochs} epochs');\n",
    "    for epoch in tqdm(range(n_epochs)):\n",
    "        lr = adjust_learning_rate_exp(optimizer, epoch_num=epoch)\n",
    "        t0 = time.time()\n",
    "\n",
    "        train_iter = train(net, criterion, optimizer, writer, epoch, train_iter, loss_, t0)\n",
    "        if (np.isnan(loss_)):\n",
    "            print('LOSS is NaN. Aborting')\n",
    "            break\n",
    "        \n",
    "        val_iter = validate(net, criterion, optimizer, writer, epoch, val_iter)\n",
    "\n",
    "        writer.add_scalar('Train/lr', lr, epoch)\n",
    "        torch.save(net.state_dict(), model_save)    \n",
    "    print('training finished!')    \n",
    "else:\n",
    "    net.load_state_dict(torch.load(model_save))"
   ]
  },
  {
   "cell_type": "code",
   "execution_count": 11,
   "metadata": {},
   "outputs": [
    {
     "name": "stdout",
     "output_type": "stream",
     "text": [
      "> <ipython-input-7-d18974a0d38d>(79)test()\n",
      "-> desc_anchors = anchor_embeddings[1:].reshape([test_size, descriptor_size])\n"
     ]
    },
    {
     "name": "stdin",
     "output_type": "stream",
     "text": [
      "(Pdb)  continue\n"
     ]
    }
   ],
   "source": [
    "test(net, criterion, writer)"
   ]
  },
  {
   "cell_type": "code",
   "execution_count": 12,
   "metadata": {},
   "outputs": [],
   "source": [
    "writer.close()"
   ]
  }
 ],
 "metadata": {
  "kernelspec": {
   "display_name": "Python 3",
   "language": "python",
   "name": "python3"
  },
  "language_info": {
   "codemirror_mode": {
    "name": "ipython",
    "version": 3
   },
   "file_extension": ".py",
   "mimetype": "text/x-python",
   "name": "python",
   "nbconvert_exporter": "python",
   "pygments_lexer": "ipython3",
   "version": "3.6.7"
  }
 },
 "nbformat": 4,
 "nbformat_minor": 4
}
