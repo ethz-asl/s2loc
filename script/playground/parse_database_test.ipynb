{
 "cells": [
  {
   "cell_type": "markdown",
   "metadata": {},
   "source": [
    "# Parse LC databases\n",
    "\n",
    "This script tests on how to parse the databases for cams and images.\n",
    "\n"
   ]
  },
  {
   "cell_type": "code",
   "execution_count": null,
   "metadata": {},
   "outputs": [],
   "source": [
    "import pandas"
   ]
  },
  {
   "cell_type": "markdown",
   "metadata": {},
   "source": [
    "## Read Cam and LiDAR database\n"
   ]
  },
  {
   "cell_type": "code",
   "execution_count": null,
   "metadata": {},
   "outputs": [],
   "source": [
    "#dataset_path = '/mnt/data/datasets/Spherical/test_training/'\n",
    "dataset_path = '/tmp/training/'\n",
    "lidar_ts_db_path = dataset_path + 'lidar_ts.csv'\n",
    "cam_ts_db_path = dataset_path + 'cam_ts.csv'\n",
    "missions_db_path = dataset_path + 'missions.csv'\n",
    "\n",
    "print(f'Reading lidar db from {lidar_ts_db_path}')\n",
    "print(f'Reading cam db from {cam_ts_db_path}')\n",
    "print(f'Reading cam db from {missions_db_path}')\n",
    "\n",
    "lidar_df = pandas.read_csv(lidar_ts_db_path, names=['mission_from', 'ts_from', 'mission_to', 'ts_to'], delimiter=';', header=None)\n",
    "cam_df = pandas.read_csv(cam_ts_db_path, names=['mission_from', 'ts_from', 'mission_to', 'ts_to'], delimiter=';', header=None)\n",
    "missions_df = pandas.read_csv(missions_db_path, names=['mission_anchor', 'mission_positive', 'mission_negative'], delimiter=',', comment='#', header=None)\n",
    "\n",
    "print(f'\\nRead {lidar_df.size} and {cam_df.size} entries.')\n",
    "print(missions_df)"
   ]
  },
  {
   "cell_type": "code",
   "execution_count": null,
   "metadata": {},
   "outputs": [],
   "source": [
    "training_missions = ['8d1b..0000', '25b1..0000', 'ef8b..0000', 'b03a..0000', '0167..0000', '472b..0000', '0282..0000', 'e2da..0000', '8a4a..0000', '657d..0000', 'f760..0000', '73cc..0000', '0569..0000', '174e..0000', 'b52f..0000']\n",
    "test_missions = ['89de..0000', '96af..0000', 'd530..0000', 'd662..0000', '62d2..0000', '6fec..0000', 'd778..0000']"
   ]
  },
  {
   "cell_type": "code",
   "execution_count": null,
   "metadata": {},
   "outputs": [],
   "source": [
    "training_indices_lidar = pandas.DataFrame()\n",
    "training_indices_cam = pandas.DataFrame()\n",
    "\n",
    "#for i in range(0, len(training_missions)):\n",
    "for i in range(0, 1):\n",
    "    print(f'Processing training mission: {training_missions[i]}')\n",
    "    current_lidar_df = missions_df[missions_df['mission_anchor'] == training_missions[i]]    \n",
    "    print(current_lidar_df['mission_positive'])\n",
    "    mask = [False] * current_lidar_df['mission_positive'].size\n",
    "    for j in range(0, len(training_missions)):\n",
    "        mask = mask | current_lidar_df['mission_positive'].str.contains(training_missions[j]).values\n",
    "    \n",
    "    current_lidar_df = current_lidar_df[mask]        \n",
    "    \n",
    "    \n",
    "    index_lidar_df = pandas.DataFrame({'index': current_lidar_df.index})    \n",
    "    #print(f'lidar df size: {training_indices_lidar.size} and raw {index_lidar_df.size} and before {current_lidar_df.size}')\n",
    "    training_indices_lidar = training_indices_lidar.append(index_lidar_df)\n",
    "    #print(f'lidar after df size\\n: {training_indices_lidar.size}')\n",
    "    \n",
    "    #current_cam_df = cam_df[cam_df['mission_from'] == training_missions[i]]\n",
    "    #current_cam_df = current_cam_df[current_cam_df['mission_to'].isin(training_missions)]\n",
    "    #index_cam_df = pandas.DataFrame({'index': current_cam_df.index})        \n",
    "    #training_indices_cam = training_indices_cam.append(index_cam_df)\n",
    "    \n",
    "\n",
    "training_indices_lidar.drop_duplicates()\n",
    "#training_indices_cam.drop_duplicates()\n",
    "\n",
    "print(f'lidar df size: \\n{training_indices_lidar}')\n",
    "#print(f'cam df size: \\n{training_indices_cam}')\n",
    "\n",
    "#training_indices = training_indices_lidar.join(training_indices_cam.set_index('index'), on='index', how='inner')\n",
    "#print(f'lidar df after size: {training_indices.size}')\n",
    "#print(training_indices)"
   ]
  },
  {
   "cell_type": "code",
   "execution_count": null,
   "metadata": {},
   "outputs": [],
   "source": [
    "test_indices_lidar = pandas.DataFrame()\n",
    "test_indices_cam = pandas.DataFrame()\n",
    "    \n",
    "for i in range(0, len(test_missions)):\n",
    "    print(f'Processing test mission: {test_missions[i]}')\n",
    "    current_lidar_df = lidar_df[lidar_df['mission_from'] == test_missions[i]]\n",
    "    current_lidar_df = current_lidar_df[current_lidar_df['mission_to'].isin(test_missions)]\n",
    "    index_lidar_df = pandas.DataFrame({'index': current_lidar_df.index})    \n",
    "    test_indices_lidar = test_indices_lidar.append(index_lidar_df)\n",
    "    \n",
    "    current_cam_df = cam_df[cam_df['mission_from'] == test_missions[i]]\n",
    "    current_cam_df = current_cam_df[current_cam_df['mission_to'].isin(test_missions)]\n",
    "    index_cam_df = pandas.DataFrame({'index': current_cam_df.index})        \n",
    "    test_indices_cam = test_indices_cam.append(index_cam_df)\n",
    "    \n",
    "test_indices_lidar.drop_duplicates()\n",
    "test_indices_cam.drop_duplicates()\n",
    "test_indices = test_indices_lidar.join(test_indices_cam.set_index('index'), on='index', how='inner')\n",
    "print(test_indices)"
   ]
  },
  {
   "cell_type": "code",
   "execution_count": null,
   "metadata": {},
   "outputs": [],
   "source": [
    "cross_join = test_indices.join(training_indices.set_index('index'), on='index', how='inner')\n",
    "assert(cross_join.size == 0)\n",
    "\n"
   ]
  },
  {
   "cell_type": "code",
   "execution_count": null,
   "metadata": {},
   "outputs": [],
   "source": []
  }
 ],
 "metadata": {
  "kernelspec": {
   "display_name": "pytorch-venv",
   "language": "python",
   "name": "pytorch-venv"
  },
  "language_info": {
   "codemirror_mode": {
    "name": "ipython",
    "version": 3
   },
   "file_extension": ".py",
   "mimetype": "text/x-python",
   "name": "python",
   "nbconvert_exporter": "python",
   "pygments_lexer": "ipython3",
   "version": "3.6.9"
  }
 },
 "nbformat": 4,
 "nbformat_minor": 4
}
