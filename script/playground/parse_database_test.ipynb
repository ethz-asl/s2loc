{
 "cells": [
  {
   "cell_type": "markdown",
   "metadata": {},
   "source": [
    "# Parse LC databases\n",
    "\n",
    "This script tests on how to parse the databases for cams and images.\n",
    "\n"
   ]
  },
  {
   "cell_type": "code",
   "execution_count": 2,
   "metadata": {},
   "outputs": [],
   "source": [
    "import pandas"
   ]
  },
  {
   "cell_type": "markdown",
   "metadata": {},
   "source": [
    "## Read Cam and LiDAR database\n"
   ]
  },
  {
   "cell_type": "code",
   "execution_count": 15,
   "metadata": {},
   "outputs": [
    {
     "name": "stdout",
     "output_type": "stream",
     "text": [
      "Reading lidar db from /tmp/training/lidar_ts.csv\n",
      "Reading cam db from /tmp/training/cam_ts.csv\n",
      "Reading cam db from /tmp/training/missions.csv\n",
      "\n",
      "Read 9092 and 9092 entries.\n",
      "    mission_anchor mission_positive mission_negative\n",
      "0       8d1b..0000       174e..0000       8d1b..0000\n",
      "1       8d1b..0000       174e..0000       8d1b..0000\n",
      "2       8d1b..0000       174e..0000       8d1b..0000\n",
      "3       8d1b..0000       b52f..0000       8d1b..0000\n",
      "4       8d1b..0000       b52f..0000       8d1b..0000\n",
      "..             ...              ...              ...\n",
      "153     73cc..0000       73cc..0000       73cc..0000\n",
      "154     73cc..0000       73cc..0000       73cc..0000\n",
      "155     73cc..0000       73cc..0000       73cc..0000\n",
      "156     73cc..0000       73cc..0000       73cc..0000\n",
      "157     73cc..0000       73cc..0000       73cc..0000\n",
      "\n",
      "[158 rows x 3 columns]\n"
     ]
    }
   ],
   "source": [
    "#dataset_path = '/mnt/data/datasets/Spherical/test_training/'\n",
    "dataset_path = '/tmp/training/'\n",
    "lidar_ts_db_path = dataset_path + 'lidar_ts.csv'\n",
    "cam_ts_db_path = dataset_path + 'cam_ts.csv'\n",
    "missions_db_path = dataset_path + 'missions.csv'\n",
    "\n",
    "print(f'Reading lidar db from {lidar_ts_db_path}')\n",
    "print(f'Reading cam db from {cam_ts_db_path}')\n",
    "print(f'Reading cam db from {missions_db_path}')\n",
    "\n",
    "lidar_df = pandas.read_csv(lidar_ts_db_path, names=['mission_from', 'ts_from', 'mission_to', 'ts_to'], delimiter=';', header=None)\n",
    "cam_df = pandas.read_csv(cam_ts_db_path, names=['mission_from', 'ts_from', 'mission_to', 'ts_to'], delimiter=';', header=None)\n",
    "missions_df = pandas.read_csv(missions_db_path, names=['mission_anchor', 'mission_positive', 'mission_negative'], delimiter=',', comment='#', header=None)\n",
    "\n",
    "print(f'\\nRead {lidar_df.size} and {cam_df.size} entries.')\n",
    "print(missions_df)"
   ]
  },
  {
   "cell_type": "code",
   "execution_count": 18,
   "metadata": {},
   "outputs": [],
   "source": [
    "training_missions = ['8d1b..0000', '25b1..0000', 'ef8b..0000', 'b03a..0000', '0167..0000', '472b..0000', '0282..0000', 'e2da..0000', '8a4a..0000', '657d..0000', 'f760..0000', '73cc..0000', '0569..0000', '174e..0000', 'b52f..0000']\n",
    "test_missions = ['89de..0000', '96af..0000', 'd530..0000', 'd662..0000', '62d2..0000', '6fec..0000', 'd778..0000']"
   ]
  },
  {
   "cell_type": "code",
   "execution_count": 52,
   "metadata": {},
   "outputs": [
    {
     "name": "stdout",
     "output_type": "stream",
     "text": [
      "Processing training mission: 8d1b..0000\n",
      "0      174e..0000\n",
      "1      174e..0000\n",
      "2      174e..0000\n",
      "3      b52f..0000\n",
      "4      b52f..0000\n",
      "5      174e..0000\n",
      "6      b52f..0000\n",
      "7      b52f..0000\n",
      "8      b52f..0000\n",
      "9      b52f..0000\n",
      "10     b52f..0000\n",
      "11     b52f..0000\n",
      "12     b52f..0000\n",
      "13     b52f..0000\n",
      "14     b52f..0000\n",
      "15     b52f..0000\n",
      "16     b52f..0000\n",
      "17     b52f..0000\n",
      "18     b52f..0000\n",
      "19     96af..0000\n",
      "20     96af..0000\n",
      "21     d778..0000\n",
      "22     8a4a..0000\n",
      "23     298d..0000\n",
      "24     89de..0000\n",
      "25     96af..0000\n",
      "26     96af..0000\n",
      "49     8d1b..0000\n",
      "50     8d1b..0000\n",
      "51     8d1b..0000\n",
      "52     8d1b..0000\n",
      "53     8d1b..0000\n",
      "Name: mission_positive, dtype: object\n",
      "[ True  True  True  True  True  True  True  True  True  True  True  True\n",
      "  True  True  True  True  True  True  True False False False  True False\n",
      " False False False  True  True  True  True  True]\n",
      "lidar df size: \n",
      "    index\n",
      "0       0\n",
      "1       1\n",
      "2       2\n",
      "3       3\n",
      "4       4\n",
      "5       5\n",
      "6       6\n",
      "7       7\n",
      "8       8\n",
      "9       9\n",
      "10     10\n",
      "11     11\n",
      "12     12\n",
      "13     13\n",
      "14     14\n",
      "15     15\n",
      "16     16\n",
      "17     17\n",
      "18     18\n",
      "19     22\n",
      "20     49\n",
      "21     50\n",
      "22     51\n",
      "23     52\n",
      "24     53\n"
     ]
    }
   ],
   "source": [
    "training_indices_lidar = pandas.DataFrame()\n",
    "training_indices_cam = pandas.DataFrame()\n",
    "\n",
    "#for i in range(0, len(training_missions)):\n",
    "for i in range(0, 1):\n",
    "    print(f'Processing training mission: {training_missions[i]}')\n",
    "    current_lidar_df = missions_df[missions_df['mission_anchor'] == training_missions[i]]    \n",
    "    print(current_lidar_df['mission_positive'])\n",
    "    mask = [False] * current_lidar_df['mission_positive'].size\n",
    "    for j in range(0, len(training_missions)):\n",
    "        mask = mask | current_lidar_df['mission_positive'].str.contains(training_missions[j]).values\n",
    "    \n",
    "    current_lidar_df = current_lidar_df[mask]        \n",
    "    \n",
    "    \n",
    "    index_lidar_df = pandas.DataFrame({'index': current_lidar_df.index})    \n",
    "    #print(f'lidar df size: {training_indices_lidar.size} and raw {index_lidar_df.size} and before {current_lidar_df.size}')\n",
    "    training_indices_lidar = training_indices_lidar.append(index_lidar_df)\n",
    "    #print(f'lidar after df size\\n: {training_indices_lidar.size}')\n",
    "    \n",
    "    #current_cam_df = cam_df[cam_df['mission_from'] == training_missions[i]]\n",
    "    #current_cam_df = current_cam_df[current_cam_df['mission_to'].isin(training_missions)]\n",
    "    #index_cam_df = pandas.DataFrame({'index': current_cam_df.index})        \n",
    "    #training_indices_cam = training_indices_cam.append(index_cam_df)\n",
    "    \n",
    "\n",
    "training_indices_lidar.drop_duplicates()\n",
    "#training_indices_cam.drop_duplicates()\n",
    "\n",
    "print(f'lidar df size: \\n{training_indices_lidar}')\n",
    "#print(f'cam df size: \\n{training_indices_cam}')\n",
    "\n",
    "#training_indices = training_indices_lidar.join(training_indices_cam.set_index('index'), on='index', how='inner')\n",
    "#print(f'lidar df after size: {training_indices.size}')\n",
    "#print(training_indices)"
   ]
  },
  {
   "cell_type": "code",
   "execution_count": 6,
   "metadata": {},
   "outputs": [
    {
     "name": "stdout",
     "output_type": "stream",
     "text": [
      "Processing test mission: 89de..0000\n",
      "Processing test mission: 96af..0000\n",
      "Processing test mission: d530..0000\n",
      "Processing test mission: d662..0000\n",
      "Processing test mission: 62d2..0000\n",
      "Processing test mission: 6fec..0000\n",
      "Processing test mission: d778..0000\n",
      "    index\n",
      "1      10\n",
      "11    139\n",
      "12    159\n",
      "13    185\n",
      "14    213\n",
      "15    241\n",
      "0       9\n",
      "1      14\n",
      "3      24\n",
      "5      33\n",
      "7      42\n",
      "9      56\n",
      "11     70\n",
      "13     85\n",
      "15    101\n",
      "17    117\n",
      "19    134\n",
      "30    268\n",
      "40    433\n",
      "4     138\n",
      "5     158\n",
      "6     184\n",
      "7     212\n",
      "8     240\n",
      "9     269\n"
     ]
    }
   ],
   "source": [
    "test_indices_lidar = pandas.DataFrame()\n",
    "test_indices_cam = pandas.DataFrame()\n",
    "    \n",
    "for i in range(0, len(test_missions)):\n",
    "    print(f'Processing test mission: {test_missions[i]}')\n",
    "    current_lidar_df = lidar_df[lidar_df['mission_from'] == test_missions[i]]\n",
    "    current_lidar_df = current_lidar_df[current_lidar_df['mission_to'].isin(test_missions)]\n",
    "    index_lidar_df = pandas.DataFrame({'index': current_lidar_df.index})    \n",
    "    test_indices_lidar = test_indices_lidar.append(index_lidar_df)\n",
    "    \n",
    "    current_cam_df = cam_df[cam_df['mission_from'] == test_missions[i]]\n",
    "    current_cam_df = current_cam_df[current_cam_df['mission_to'].isin(test_missions)]\n",
    "    index_cam_df = pandas.DataFrame({'index': current_cam_df.index})        \n",
    "    test_indices_cam = test_indices_cam.append(index_cam_df)\n",
    "    \n",
    "test_indices_lidar.drop_duplicates()\n",
    "test_indices_cam.drop_duplicates()\n",
    "test_indices = test_indices_lidar.join(test_indices_cam.set_index('index'), on='index', how='inner')\n",
    "print(test_indices)"
   ]
  },
  {
   "cell_type": "code",
   "execution_count": 31,
   "metadata": {},
   "outputs": [
    {
     "ename": "NameError",
     "evalue": "name 'test_indices' is not defined",
     "output_type": "error",
     "traceback": [
      "\u001b[0;31m---------------------------------------------------------------------------\u001b[0m",
      "\u001b[0;31mNameError\u001b[0m                                 Traceback (most recent call last)",
      "\u001b[0;32m<ipython-input-31-16815a6870bd>\u001b[0m in \u001b[0;36m<module>\u001b[0;34m\u001b[0m\n\u001b[0;32m----> 1\u001b[0;31m \u001b[0mcross_join\u001b[0m \u001b[0;34m=\u001b[0m \u001b[0mtest_indices\u001b[0m\u001b[0;34m.\u001b[0m\u001b[0mjoin\u001b[0m\u001b[0;34m(\u001b[0m\u001b[0mtraining_indices\u001b[0m\u001b[0;34m.\u001b[0m\u001b[0mset_index\u001b[0m\u001b[0;34m(\u001b[0m\u001b[0;34m'index'\u001b[0m\u001b[0;34m)\u001b[0m\u001b[0;34m,\u001b[0m \u001b[0mon\u001b[0m\u001b[0;34m=\u001b[0m\u001b[0;34m'index'\u001b[0m\u001b[0;34m,\u001b[0m \u001b[0mhow\u001b[0m\u001b[0;34m=\u001b[0m\u001b[0;34m'inner'\u001b[0m\u001b[0;34m)\u001b[0m\u001b[0;34m\u001b[0m\u001b[0;34m\u001b[0m\u001b[0m\n\u001b[0m\u001b[1;32m      2\u001b[0m \u001b[0;32massert\u001b[0m\u001b[0;34m(\u001b[0m\u001b[0mcross_join\u001b[0m\u001b[0;34m.\u001b[0m\u001b[0msize\u001b[0m \u001b[0;34m==\u001b[0m \u001b[0;36m0\u001b[0m\u001b[0;34m)\u001b[0m\u001b[0;34m\u001b[0m\u001b[0;34m\u001b[0m\u001b[0m\n\u001b[1;32m      3\u001b[0m \u001b[0;34m\u001b[0m\u001b[0m\n",
      "\u001b[0;31mNameError\u001b[0m: name 'test_indices' is not defined"
     ]
    }
   ],
   "source": [
    "cross_join = test_indices.join(training_indices.set_index('index'), on='index', how='inner')\n",
    "assert(cross_join.size == 0)\n",
    "\n"
   ]
  },
  {
   "cell_type": "code",
   "execution_count": null,
   "metadata": {},
   "outputs": [],
   "source": []
  }
 ],
 "metadata": {
  "kernelspec": {
   "display_name": "pytorch-venv",
   "language": "python",
   "name": "pytorch-venv"
  },
  "language_info": {
   "codemirror_mode": {
    "name": "ipython",
    "version": 3
   },
   "file_extension": ".py",
   "mimetype": "text/x-python",
   "name": "python",
   "nbconvert_exporter": "python",
   "pygments_lexer": "ipython3",
   "version": "3.6.9"
  }
 },
 "nbformat": 4,
 "nbformat_minor": 4
}
