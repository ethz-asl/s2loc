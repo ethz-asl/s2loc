{
 "cells": [
  {
   "cell_type": "markdown",
   "metadata": {},
   "source": [
    "# Test Spherical Signal Generation\n",
    "\n",
    "## Description\n",
    "This notebook provides a test script to generate the spherical features for input. "
   ]
  },
  {
   "cell_type": "code",
   "execution_count": null,
   "metadata": {},
   "outputs": [],
   "source": [
    "from data_source import DataSource\n",
    "from visualize import Visualize\n",
    "from sphere import Sphere\n",
    "import sys\n",
    "import time\n",
    "import math\n",
    "import numpy as np\n",
    "import pandas as pd\n",
    "import matplotlib.pyplot as plt\n",
    "from matplotlib.backends.backend_pdf import PdfPages\n",
    "import open3d as o3d\n",
    "from mission_indices import MissionIndices\n",
    "from database_parser import DatabaseParser\n",
    "\n",
    "%load_ext autoreload\n",
    "%autoreload 2\n",
    "%matplotlib inline"
   ]
  },
  {
   "cell_type": "markdown",
   "metadata": {},
   "source": [
    "## Load the spherical image"
   ]
  },
  {
   "cell_type": "code",
   "execution_count": null,
   "metadata": {},
   "outputs": [],
   "source": [
    "ds = DataSource('')\n",
    "#sph_image_cart = ds.loadPointCloudFromPath('/tmp/training/training_anchor_sph_images/000000000000001.ply')\n",
    "cloud = ds.loadPointCloudFromPath('/tmp/training/training_anchor_pointclouds/000000000000001.ply')\n",
    "#img_feat = np.reshape(sph_image_cart.transpose(), (4,200,200))\n",
    "print('Original shape ', cloud.shape)\n",
    "T = np.array(\n",
    "        [[0.9997770641962381,  0.016299234847643,  -0.01344410000000, 0.0331989],\n",
    "         [-0.016286738363819,   0.999867935740224,  0.001094290000000, -0.121313],\n",
    "         [0.01346018117580,   -0.00087509685356,   0.999909000000000, 0.15737],\n",
    "         [0, 0, 0, 1]])\n",
    "\n",
    "\n",
    "pcd = o3d.geometry.PointCloud()\n",
    "pcd.points = o3d.utility.Vector3dVector(cloud[:, 0:3])\n",
    "pcd.transform(T)\n",
    "dst = np.asarray(pcd.points)\n",
    "transformed = np.column_stack((dst, cloud[:,3]))\n",
    "print('Original shape ', transformed.shape)\n",
    "\n",
    "viz = Visualize()\n",
    "sphere = Sphere(transformed)\n",
    "#viz.visualizeSphere(sphere, True)\n",
    "viz.visualizeRawPointCloud(sphere, False)"
   ]
  },
  {
   "cell_type": "code",
   "execution_count": null,
   "metadata": {},
   "outputs": [],
   "source": [
    "sphere = Sphere(sph_image_cart)\n",
    "viz = Visualize()\n",
    "#viz.visualizeCartesianSphere(sph_image_cart, False)\n",
    "viz.visualizeSphere(sphere, True)"
   ]
  },
  {
   "cell_type": "code",
   "execution_count": null,
   "metadata": {},
   "outputs": [],
   "source": [
    "sphere = Sphere(sph_image_cart)\n",
    "cart_sphere = sphere.getProjectedInCartesian()\n",
    "cart_sphere.shape\n",
    "#sphere.intensity.shape\n",
    "#np.column_stack((cart_sphere, sphere.intensity))\n",
    "#test = np.append(cart_sphere, sphere.intensity, axis=1)"
   ]
  },
  {
   "cell_type": "code",
   "execution_count": null,
   "metadata": {},
   "outputs": [],
   "source": [
    "from plyfile import PlyData, PlyElement\n",
    "plydata = PlyData.read('/tmp/training/training_anchor_pointclouds/000000000000001.ply')\n",
    "'scalar2' in plydata['vertex']._property_lookup"
   ]
  },
  {
   "cell_type": "code",
   "execution_count": null,
   "metadata": {},
   "outputs": [],
   "source": [
    "test = np.zeros((3, 200, 200))\n",
    "f12 = np.ones((2,200,200))*1\n",
    "f3 = np.ones((1, 200, 200))*2\n",
    "\n",
    "test[0,:,:] = f12[0,:,:]\n",
    "test[1,:,:] = f12[1,:,:]\n",
    "test[2,:,:] = f3[0,:,:]\n"
   ]
  },
  {
   "cell_type": "code",
   "execution_count": null,
   "metadata": {},
   "outputs": [],
   "source": [
    "features = [np.zeros((3, 200, 200))]*10\n",
    "features[0][1,1,1]"
   ]
  },
  {
   "cell_type": "code",
   "execution_count": null,
   "metadata": {},
   "outputs": [],
   "source": [
    "dataset_path = \"/mnt/data/datasets/Spherical/test_training/\"\n",
    "db_parser = DatabaseParser(dataset_path)\n",
    "\n",
    "training_missions, test_missions = MissionIndices.get_arche_low_res()\n",
    "training_indices, test_indices = db_parser.extract_training_and_test_indices(\n",
    "    training_missions, test_missions)\n",
    "\n",
    "n_test_data = 8000\n",
    "n_test_cache = n_test_data\n",
    "ds_test = DataSource(dataset_path, n_test_cache, -1)\n",
    "idx = np.array(training_indices['idx'].tolist())\n",
    "ds_test.load(n_test_data, idx)"
   ]
  },
  {
   "cell_type": "code",
   "execution_count": null,
   "metadata": {},
   "outputs": [],
   "source": [
    "ds_test.filterClusters(ds_test.anchor_poses, ds_test.positive_poses)"
   ]
  },
  {
   "cell_type": "code",
   "execution_count": null,
   "metadata": {},
   "outputs": [],
   "source": [
    "x1 = np.arange(9.0).reshape((3, 3))\n",
    "x2 = np.arange(3.0)\n",
    "#print(x1)\n",
    "#print(x2)\n",
    "\n",
    "x3 = np.subtract(x1, x2)\n",
    "#print(x3)\n",
    "distances = np.linalg.norm(x3, axis=1)\n",
    "min_dist = np.amin(distances)\n",
    "min_idx = np.where(distances == min_dist)\n",
    "\n",
    "print(f'Minimum distance is {min_dist} at index {min_idx[0][0]}')"
   ]
  },
  {
   "cell_type": "code",
   "execution_count": null,
   "metadata": {},
   "outputs": [],
   "source": [
    "non_clustered = [ds_test.anchor_poses[0,5:8]]\n",
    "non_clustered_indices = [0]\n",
    "print(np.array(non_clustered))\n",
    "for i in range(1,50):\n",
    "    curr_pose = ds_test.anchor_poses[i, 5:8]\n",
    "    diff = np.subtract(np.array(non_clustered), curr_pose)\n",
    "    distances = np.linalg.norm(diff, axis=1)\n",
    "    min_dist = np.amin(distances)\n",
    "    if min_dist < 0.3:\n",
    "        continue\n",
    "            \n",
    "    min_idx = np.where(distances == min_dist)\n",
    "    print(f'Minimum distance is {min_dist} at index {min_idx[0][0]} for sample {i}')\n",
    "    non_clustered.append(curr_pose)\n",
    "    non_clustered_indices.append(i)\n",
    "print(np.array(non_clustered))\n",
    "print(non_clustered_indices)\n",
    "assert len(non_clustered) == len(non_clustered_indices)"
   ]
  },
  {
   "cell_type": "code",
   "execution_count": null,
   "metadata": {},
   "outputs": [],
   "source": []
  }
 ],
 "metadata": {
  "kernelspec": {
   "display_name": "Python 3",
   "language": "python",
   "name": "python3"
  },
  "language_info": {
   "codemirror_mode": {
    "name": "ipython",
    "version": 3
   },
   "file_extension": ".py",
   "mimetype": "text/x-python",
   "name": "python",
   "nbconvert_exporter": "python",
   "pygments_lexer": "ipython3",
   "version": "3.6.9"
  }
 },
 "nbformat": 4,
 "nbformat_minor": 4
}
