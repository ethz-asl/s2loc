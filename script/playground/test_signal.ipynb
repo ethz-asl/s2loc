{
 "cells": [
  {
   "cell_type": "markdown",
   "metadata": {},
   "source": [
    "# Test Spherical Signal Generation\n",
    "\n",
    "## Description\n",
    "This notebook provides a test script to generate the spherical features for input. "
   ]
  },
  {
   "cell_type": "code",
   "execution_count": 2,
   "metadata": {},
   "outputs": [],
   "source": [
    "from data_source import DataSource\n",
    "from visualize import Visualize\n",
    "from sphere import Sphere\n",
    "import sys\n",
    "import time\n",
    "import math\n",
    "import numpy as np\n",
    "import pandas as pd\n",
    "import matplotlib.pyplot as plt\n",
    "from matplotlib.backends.backend_pdf import PdfPages\n",
    "import open3d as o3d\n",
    "from mission_indices import MissionIndices\n",
    "from database_parser import DatabaseParser\n",
    "\n",
    "%load_ext autoreload\n",
    "%autoreload 2\n",
    "%matplotlib inline"
   ]
  },
  {
   "cell_type": "markdown",
   "metadata": {},
   "source": [
    "## Load the spherical image"
   ]
  },
  {
   "cell_type": "code",
   "execution_count": 2,
   "metadata": {},
   "outputs": [
    {
     "name": "stdout",
     "output_type": "stream",
     "text": [
      "Original shape  (131072, 4)\n",
      "Original shape  (131072, 4)\n"
     ]
    }
   ],
   "source": [
    "ds = DataSource('')\n",
    "#sph_image_cart = ds.loadPointCloudFromPath('/tmp/training/training_anchor_sph_images/000000000000001.ply')\n",
    "cloud = ds.loadPointCloudFromPath('/tmp/training/training_anchor_pointclouds/000000000000001.ply')\n",
    "#img_feat = np.reshape(sph_image_cart.transpose(), (4,200,200))\n",
    "print('Original shape ', cloud.shape)\n",
    "T = np.array(\n",
    "        [[0.9997770641962381,  0.016299234847643,  -0.01344410000000, 0.0331989],\n",
    "         [-0.016286738363819,   0.999867935740224,  0.001094290000000, -0.121313],\n",
    "         [0.01346018117580,   -0.00087509685356,   0.999909000000000, 0.15737],\n",
    "         [0, 0, 0, 1]])\n",
    "\n",
    "\n",
    "pcd = o3d.geometry.PointCloud()\n",
    "pcd.points = o3d.utility.Vector3dVector(cloud[:, 0:3])\n",
    "pcd.transform(T)\n",
    "dst = np.asarray(pcd.points)\n",
    "transformed = np.column_stack((dst, cloud[:,3]))\n",
    "print('Original shape ', transformed.shape)\n",
    "\n",
    "viz = Visualize()\n",
    "sphere = Sphere(transformed)\n",
    "#viz.visualizeSphere(sphere, True)\n",
    "viz.visualizeRawPointCloud(sphere, False)"
   ]
  },
  {
   "cell_type": "code",
   "execution_count": 97,
   "metadata": {},
   "outputs": [],
   "source": [
    "sphere = Sphere(sph_image_cart)\n",
    "viz = Visualize()\n",
    "#viz.visualizeCartesianSphere(sph_image_cart, False)\n",
    "viz.visualizeSphere(sphere, True)"
   ]
  },
  {
   "cell_type": "code",
   "execution_count": 111,
   "metadata": {},
   "outputs": [
    {
     "data": {
      "text/plain": [
       "(40000, 3)"
      ]
     },
     "execution_count": 111,
     "metadata": {},
     "output_type": "execute_result"
    }
   ],
   "source": [
    "sphere = Sphere(sph_image_cart)\n",
    "cart_sphere = sphere.getProjectedInCartesian()\n",
    "cart_sphere.shape\n",
    "#sphere.intensity.shape\n",
    "#np.column_stack((cart_sphere, sphere.intensity))\n",
    "#test = np.append(cart_sphere, sphere.intensity, axis=1)"
   ]
  },
  {
   "cell_type": "code",
   "execution_count": 125,
   "metadata": {},
   "outputs": [
    {
     "ename": "AttributeError",
     "evalue": "'PlyData' object has no attribute 'shape'",
     "output_type": "error",
     "traceback": [
      "\u001b[0;31m---------------------------------------------------------------------------\u001b[0m",
      "\u001b[0;31mAttributeError\u001b[0m                            Traceback (most recent call last)",
      "\u001b[0;32m<ipython-input-125-10c7a9fb014c>\u001b[0m in \u001b[0;36m<module>\u001b[0;34m\u001b[0m\n\u001b[1;32m      2\u001b[0m \u001b[0mplydata\u001b[0m \u001b[0;34m=\u001b[0m \u001b[0mPlyData\u001b[0m\u001b[0;34m.\u001b[0m\u001b[0mread\u001b[0m\u001b[0;34m(\u001b[0m\u001b[0;34m'/tmp/training/training_anchor_pointclouds/000000000000001.ply'\u001b[0m\u001b[0;34m)\u001b[0m\u001b[0;34m\u001b[0m\u001b[0;34m\u001b[0m\u001b[0m\n\u001b[1;32m      3\u001b[0m \u001b[0;34m'scalar2'\u001b[0m \u001b[0;32min\u001b[0m \u001b[0mplydata\u001b[0m\u001b[0;34m[\u001b[0m\u001b[0;34m'vertex'\u001b[0m\u001b[0;34m]\u001b[0m\u001b[0;34m.\u001b[0m\u001b[0m_property_lookup\u001b[0m\u001b[0;34m\u001b[0m\u001b[0;34m\u001b[0m\u001b[0m\n\u001b[0;32m----> 4\u001b[0;31m \u001b[0mplydata\u001b[0m\u001b[0;34m.\u001b[0m\u001b[0mshape\u001b[0m\u001b[0;34m\u001b[0m\u001b[0;34m\u001b[0m\u001b[0m\n\u001b[0m",
      "\u001b[0;31mAttributeError\u001b[0m: 'PlyData' object has no attribute 'shape'"
     ]
    }
   ],
   "source": [
    "from plyfile import PlyData, PlyElement\n",
    "plydata = PlyData.read('/tmp/training/training_anchor_pointclouds/000000000000001.ply')\n",
    "'scalar2' in plydata['vertex']._property_lookup"
   ]
  },
  {
   "cell_type": "code",
   "execution_count": 87,
   "metadata": {},
   "outputs": [
    {
     "data": {
      "text/plain": [
       "3"
      ]
     },
     "execution_count": 87,
     "metadata": {},
     "output_type": "execute_result"
    }
   ],
   "source": [
    "test = np.zeros((3, 200, 200))\n",
    "f12 = np.ones((2,200,200))*1\n",
    "f3 = np.ones((1, 200, 200))*2\n",
    "\n",
    "test[0,:,:] = f12[0,:,:]\n",
    "test[1,:,:] = f12[1,:,:]\n",
    "test[2,:,:] = f3[0,:,:]\n"
   ]
  },
  {
   "cell_type": "code",
   "execution_count": 93,
   "metadata": {},
   "outputs": [
    {
     "data": {
      "text/plain": [
       "0.0"
      ]
     },
     "execution_count": 93,
     "metadata": {},
     "output_type": "execute_result"
    }
   ],
   "source": [
    "features = [np.zeros((3, 200, 200))]*10\n",
    "features[0][1,1,1]"
   ]
  },
  {
   "cell_type": "code",
   "execution_count": 6,
   "metadata": {},
   "outputs": [
    {
     "name": "stdout",
     "output_type": "stream",
     "text": [
      "Reading missions db from /mnt/data/datasets/Spherical/test_training/missions.csv\n",
      "Read 52 entries.\n"
     ]
    },
    {
     "data": {
      "application/vnd.jupyter.widget-view+json": {
       "model_id": "079c565a92f141b1a58b088628ae301a",
       "version_major": 2,
       "version_minor": 0
      },
      "text/plain": [
       "HBox(children=(FloatProgress(value=0.0, max=4.0), HTML(value='')))"
      ]
     },
     "metadata": {},
     "output_type": "display_data"
    },
    {
     "name": "stdout",
     "output_type": "stream",
     "text": [
      "\n"
     ]
    },
    {
     "data": {
      "application/vnd.jupyter.widget-view+json": {
       "model_id": "acb5d21ff7f14393887f2de441befcd7",
       "version_major": 2,
       "version_minor": 0
      },
      "text/plain": [
       "HBox(children=(FloatProgress(value=0.0, max=2.0), HTML(value='')))"
      ]
     },
     "metadata": {},
     "output_type": "display_data"
    },
    {
     "name": "stdout",
     "output_type": "stream",
     "text": [
      "\n",
      "Loading anchors from:\t/mnt/data/datasets/Spherical/test_training//training_anchor_pointclouds/ and /mnt/data/datasets/Spherical/test_training//training_anchor_sph_images/\n"
     ]
    },
    {
     "data": {
      "application/vnd.jupyter.widget-view+json": {
       "model_id": "3f01bffe84334839a0ba7294292105fe",
       "version_major": 2,
       "version_minor": 0
      },
      "text/plain": [
       "HBox(children=(FloatProgress(value=0.0, max=52.0), HTML(value='')))"
      ]
     },
     "metadata": {},
     "output_type": "display_data"
    },
    {
     "name": "stdout",
     "output_type": "stream",
     "text": [
      "\n"
     ]
    },
    {
     "data": {
      "application/vnd.jupyter.widget-view+json": {
       "model_id": "a8619c9f59924255b80a2ca7e92ddc6c",
       "version_major": 2,
       "version_minor": 0
      },
      "text/plain": [
       "HBox(children=(FloatProgress(value=0.0, max=52.0), HTML(value='')))"
      ]
     },
     "metadata": {},
     "output_type": "display_data"
    },
    {
     "name": "stdout",
     "output_type": "stream",
     "text": [
      "\n",
      "Loading positives from:\t/mnt/data/datasets/Spherical/test_training//training_positive_pointclouds/ and /mnt/data/datasets/Spherical/test_training//training_positive_sph_images/\n"
     ]
    },
    {
     "data": {
      "application/vnd.jupyter.widget-view+json": {
       "model_id": "d79e92205c3d4fa989e9e6bb91ad3386",
       "version_major": 2,
       "version_minor": 0
      },
      "text/plain": [
       "HBox(children=(FloatProgress(value=0.0, max=52.0), HTML(value='')))"
      ]
     },
     "metadata": {},
     "output_type": "display_data"
    },
    {
     "name": "stdout",
     "output_type": "stream",
     "text": [
      "\n"
     ]
    },
    {
     "data": {
      "application/vnd.jupyter.widget-view+json": {
       "model_id": "ae647ac215a4415da7651cce530680e3",
       "version_major": 2,
       "version_minor": 0
      },
      "text/plain": [
       "HBox(children=(FloatProgress(value=0.0, max=52.0), HTML(value='')))"
      ]
     },
     "metadata": {},
     "output_type": "display_data"
    },
    {
     "name": "stdout",
     "output_type": "stream",
     "text": [
      "\n",
      "Loading negatives from:\t/mnt/data/datasets/Spherical/test_training//training_negative_pointclouds/ and /mnt/data/datasets/Spherical/test_training//training_negative_sph_images/\n"
     ]
    },
    {
     "data": {
      "application/vnd.jupyter.widget-view+json": {
       "model_id": "c5fa9b1ada9e436c91d3c3f098a157de",
       "version_major": 2,
       "version_minor": 0
      },
      "text/plain": [
       "HBox(children=(FloatProgress(value=0.0, max=52.0), HTML(value='')))"
      ]
     },
     "metadata": {},
     "output_type": "display_data"
    },
    {
     "name": "stdout",
     "output_type": "stream",
     "text": [
      "\n"
     ]
    },
    {
     "data": {
      "application/vnd.jupyter.widget-view+json": {
       "model_id": "18d98504346244b9aa5048005ba5740c",
       "version_major": 2,
       "version_minor": 0
      },
      "text/plain": [
       "HBox(children=(FloatProgress(value=0.0, max=52.0), HTML(value='')))"
      ]
     },
     "metadata": {},
     "output_type": "display_data"
    },
    {
     "name": "stdout",
     "output_type": "stream",
     "text": [
      "\n",
      "Done loading dataset.\n",
      "\tAnchor point clouds total: \t52\n",
      "\tAnchor images total: \t\t52\n",
      "\tAnchor poses total: \t\t52\n",
      "\tPositive point clouds total: \t52\n",
      "\tPositive images total: \t\t52\n",
      "\tPositive poses total: \t\t52\n",
      "\tNegative point clouds total: \t52\n",
      "\tNegative images total: \t\t52\n",
      "\tNegative poses total: \t\t52\n"
     ]
    }
   ],
   "source": [
    "dataset_path = \"/mnt/data/datasets/Spherical/test_training/\"\n",
    "db_parser = DatabaseParser(dataset_path)\n",
    "\n",
    "training_missions, test_missions = MissionIndices.get_arche_low_res()\n",
    "training_indices, test_indices = db_parser.extract_training_and_test_indices(\n",
    "    training_missions, test_missions)\n",
    "\n",
    "n_test_data = 8000\n",
    "n_test_cache = n_test_data\n",
    "ds_test = DataSource(dataset_path, n_test_cache, -1)\n",
    "idx = np.array(training_indices['idx'].tolist())\n",
    "ds_test.load(n_test_data, idx)"
   ]
  },
  {
   "cell_type": "code",
   "execution_count": 59,
   "metadata": {},
   "outputs": [
    {
     "name": "stdout",
     "output_type": "stream",
     "text": [
      "Minimum distance is 1.5213253674727174 at index 0 for sample 15\n",
      "[[ 66.3513   -34.8314    -0.351782]\n",
      " [ 66.5754   -36.2498     0.150564]]\n",
      "[0, 15]\n",
      "Minimum distance is 1.5011588001543974 at index 1 for sample 47\n",
      "[[ 66.3513   -34.8314    -0.351782]\n",
      " [ 66.5754   -36.2498     0.150564]\n",
      " [ 65.4      -37.183      0.118155]]\n",
      "[0, 15, 47]\n",
      "Minimum distance is 27.16334466582634 at index 2 for sample 50\n",
      "[[ 66.3513    -34.8314     -0.351782 ]\n",
      " [ 66.5754    -36.2498      0.150564 ]\n",
      " [ 65.4       -37.183       0.118155 ]\n",
      " [ 80.2366    -59.9365      0.0893171]]\n",
      "[0, 15, 47, 50]\n",
      "Minimum distance is 7.777646323674765 at index 3 for sample 51\n",
      "[[ 66.3513    -34.8314     -0.351782 ]\n",
      " [ 66.5754    -36.2498      0.150564 ]\n",
      " [ 65.4       -37.183       0.118155 ]\n",
      " [ 80.2366    -59.9365      0.0893171]\n",
      " [ 76.4088    -53.1668      0.193679 ]]\n",
      "[0, 15, 47, 50, 51]\n"
     ]
    }
   ],
   "source": [
    "ds_test.filterClusters(ds_test.anchor_poses, ds_test.positive_poses)"
   ]
  },
  {
   "cell_type": "code",
   "execution_count": 41,
   "metadata": {},
   "outputs": [
    {
     "name": "stdout",
     "output_type": "stream",
     "text": [
      "Minimum distance is 0.0 at index 0\n"
     ]
    }
   ],
   "source": [
    "x1 = np.arange(9.0).reshape((3, 3))\n",
    "x2 = np.arange(3.0)\n",
    "#print(x1)\n",
    "#print(x2)\n",
    "\n",
    "x3 = np.subtract(x1, x2)\n",
    "#print(x3)\n",
    "distances = np.linalg.norm(x3, axis=1)\n",
    "min_dist = np.amin(distances)\n",
    "min_idx = np.where(distances == min_dist)\n",
    "\n",
    "print(f'Minimum distance is {min_dist} at index {min_idx[0][0]}')"
   ]
  },
  {
   "cell_type": "code",
   "execution_count": 56,
   "metadata": {},
   "outputs": [
    {
     "name": "stdout",
     "output_type": "stream",
     "text": [
      "[[ 66.3513   -34.8314    -0.351782]]\n",
      "Minimum distance is 1.5213253674727174 at index 0 for sample 15\n",
      "Minimum distance is 0.3290786636960846 at index 1 for sample 23\n",
      "Minimum distance is 0.3209681953153622 at index 2 for sample 38\n",
      "Minimum distance is 0.306612709979544 at index 3 for sample 43\n",
      "Minimum distance is 0.48132905630244005 at index 4 for sample 46\n",
      "[[ 66.3513   -34.8314    -0.351782]\n",
      " [ 66.5754   -36.2498     0.150564]\n",
      " [ 66.3882   -36.5203     0.141694]\n",
      " [ 66.1596   -36.7455     0.148592]\n",
      " [ 65.8951   -36.8982     0.121503]\n",
      " [ 65.4722   -37.128      0.126524]]\n",
      "[0, 15, 23, 38, 43, 46]\n"
     ]
    }
   ],
   "source": [
    "non_clustered = [ds_test.anchor_poses[0,5:8]]\n",
    "non_clustered_indices = [0]\n",
    "print(np.array(non_clustered))\n",
    "for i in range(1,50):\n",
    "    curr_pose = ds_test.anchor_poses[i, 5:8]\n",
    "    diff = np.subtract(np.array(non_clustered), curr_pose)\n",
    "    distances = np.linalg.norm(diff, axis=1)\n",
    "    min_dist = np.amin(distances)\n",
    "    if min_dist < 0.3:\n",
    "        continue\n",
    "            \n",
    "    min_idx = np.where(distances == min_dist)\n",
    "    print(f'Minimum distance is {min_dist} at index {min_idx[0][0]} for sample {i}')\n",
    "    non_clustered.append(curr_pose)\n",
    "    non_clustered_indices.append(i)\n",
    "print(np.array(non_clustered))\n",
    "print(non_clustered_indices)\n",
    "assert len(non_clustered) == len(non_clustered_indices)"
   ]
  },
  {
   "cell_type": "code",
   "execution_count": null,
   "metadata": {},
   "outputs": [],
   "source": []
  }
 ],
 "metadata": {
  "kernelspec": {
   "display_name": "Python 3",
   "language": "python",
   "name": "python3"
  },
  "language_info": {
   "codemirror_mode": {
    "name": "ipython",
    "version": 3
   },
   "file_extension": ".py",
   "mimetype": "text/x-python",
   "name": "python",
   "nbconvert_exporter": "python",
   "pygments_lexer": "ipython3",
   "version": "3.6.7"
  }
 },
 "nbformat": 4,
 "nbformat_minor": 4
}
