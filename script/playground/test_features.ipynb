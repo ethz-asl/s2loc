{
 "cells": [
  {
   "cell_type": "markdown",
   "metadata": {},
   "source": [
    "# Test Spherical Signal Generation\n",
    "\n",
    "## Description\n",
    "This notebook provides a test script to generate the spherical features for input. "
   ]
  },
  {
   "cell_type": "code",
   "execution_count": 8,
   "metadata": {},
   "outputs": [
    {
     "name": "stdout",
     "output_type": "stream",
     "text": [
      "The autoreload extension is already loaded. To reload it, use:\n",
      "  %reload_ext autoreload\n"
     ]
    }
   ],
   "source": [
    "import sys\n",
    "import time\n",
    "import math\n",
    "import numpy as np\n",
    "import pandas as pd\n",
    "import matplotlib.pyplot as plt\n",
    "from matplotlib import cm\n",
    "import open3d as o3d\n",
    "\n",
    "%load_ext autoreload\n",
    "%autoreload 2\n",
    "%matplotlib inline"
   ]
  },
  {
   "cell_type": "markdown",
   "metadata": {},
   "source": [
    "## Load the test features"
   ]
  },
  {
   "cell_type": "code",
   "execution_count": 48,
   "metadata": {},
   "outputs": [
    {
     "name": "stdout",
     "output_type": "stream",
     "text": [
      "Features have the shape of (3, 2, 200, 200)\n",
      "Dense map has the shape of (446248, 4)\n"
     ]
    }
   ],
   "source": [
    "filename = '/home/berlukas/Documents/workspace/phaser_ws/src/s2loc/script/playground/test_features.npy'\n",
    "dense_map_filename = '/home/berlukas/Documents/workspace/phaser_ws/src/s2loc/script/playground/foo.npy'\n",
    "features = np.load(filename)\n",
    "dense_map = np.load(dense_map_filename)\n",
    "print(f'Features have the shape of {features.shape}')\n",
    "print(f'Dense map has the shape of {dense_map.shape}')"
   ]
  },
  {
   "cell_type": "code",
   "execution_count": 127,
   "metadata": {},
   "outputs": [],
   "source": [
    "def create_grid(bw):\n",
    "        n_grid = 2 * bw\n",
    "        k = 0;\n",
    "        points = np.empty([n_grid * n_grid, 2])\n",
    "        for i in range(n_grid):\n",
    "            for j in range(n_grid):\n",
    "                points[k, 0] = (np.pi*(2*i+1))/(4*bw)\n",
    "                points[k, 1] = (2*np.pi*j)/(2*bw);\n",
    "                k = k + 1;\n",
    "        return points\n",
    "    \n",
    "def convert_spherical_to_euclidean(grid):\n",
    "    cart_grid = np.zeros([ grid.shape[0], 3])\n",
    "    cart_grid[:,0] = np.multiply(np.sin(grid[:,0]), np.cos(grid[:,1]))\n",
    "    cart_grid[:,1] = np.multiply(np.sin(grid[:,0]), np.sin(grid[:,1]))\n",
    "    cart_grid[:,2] = np.cos(grid[:,0])\n",
    "    return cart_grid\n",
    "\n",
    "def map_intensity_to_RGB(i):\n",
    "    return cm.jet(plt.Normalize(min(i), max(i))(i))\n",
    "    \n",
    "def sampling_cloud_from_bw(bw):\n",
    "    grid = create_grid(bw)\n",
    "    xyz_grid = convert_spherical_to_euclidean(grid)\n",
    "    intensities = np.zeros((xyz_grid.shape[0],1))\n",
    "    sampling_grid = np.hstack((xyz_grid, np.ones((xyz_grid.shape[0], 1), dtype=xyz_grid.dtype)))\n",
    "    return sampling_grid\n",
    "\n",
    "def create_pc(cloud, bw = 100):    \n",
    "    points_xyz = cloud[:,0:3]        \n",
    "    pcd = o3d.geometry.PointCloud()\n",
    "    pcd.points = o3d.utility.Vector3dVector(points_xyz[:, 0:3])\n",
    "    colors = map_intensity_to_RGB(cloud[:, 3])\n",
    "    pcd.colors = o3d.utility.Vector3dVector(colors[:,0:3])\n",
    "    return pcd   \n",
    "\n",
    "def create_spherical_pc(feature, bw = 100):\n",
    "    pc = sampling_cloud_from_bw(bw)    \n",
    "    points_xyz = pc[:,0:3]    \n",
    "    \n",
    "    pcd = o3d.geometry.PointCloud()\n",
    "    pcd.points = o3d.utility.Vector3dVector(points_xyz[:, 0:3])\n",
    "    colors = map_intensity_to_RGB(feature[:, 1])\n",
    "    pcd.colors = o3d.utility.Vector3dVector(colors[:,0:3])  \n",
    "    return pcd   \n",
    "\n",
    "def visualize_pointcloud(cloud):\n",
    "    pcd = create_pc(cloud)\n",
    "    o3d.visualization.draw_geometries([pcd])\n",
    "    \n",
    "def visualize_feature(feature, bw = 100):\n",
    "    pcd = create_spherical_pc(feature, bw)    \n",
    "    o3d.visualization.draw_geometries([pcd])  "
   ]
  },
  {
   "cell_type": "code",
   "execution_count": 129,
   "metadata": {},
   "outputs": [],
   "source": [
    "n_features = features.shape[0]\n",
    "n_features = 1\n",
    "for i in range(0, n_features):\n",
    "    cur_features = features[i, :, :, :] # features, 2*bw, 2*bw\n",
    "    cur_features = np.reshape(cur_features, (cur_features.shape[0], -1)).T # (2*bw)^2, features    \n",
    "    visualize_feature(cur_features)    "
   ]
  },
  {
   "cell_type": "code",
   "execution_count": 122,
   "metadata": {},
   "outputs": [],
   "source": [
    "visualize_pointcloud(dense_map)"
   ]
  }
 ],
 "metadata": {
  "kernelspec": {
   "display_name": "Python 3",
   "language": "python",
   "name": "python3"
  },
  "language_info": {
   "codemirror_mode": {
    "name": "ipython",
    "version": 3
   },
   "file_extension": ".py",
   "mimetype": "text/x-python",
   "name": "python",
   "nbconvert_exporter": "python",
   "pygments_lexer": "ipython3",
   "version": "3.6.9"
  }
 },
 "nbformat": 4,
 "nbformat_minor": 4
}
