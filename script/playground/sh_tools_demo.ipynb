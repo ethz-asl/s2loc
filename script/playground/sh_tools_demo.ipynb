{
 "cells": [
  {
   "cell_type": "markdown",
   "metadata": {},
   "source": [
    "## SHTools Demo\n",
    "\n",
    "This notbook is used to play around with a few things from the pyshtools library\n"
   ]
  },
  {
   "cell_type": "code",
   "execution_count": null,
   "metadata": {},
   "outputs": [],
   "source": [
    "import matplotlib.pyplot as plt\n",
    "import numpy as np\n",
    "import torch\n",
    "import pyshtools\n",
    "from pyshtools import spectralanalysis\n",
    "from pyshtools import shio\n",
    "from pyshtools import expand\n",
    "\n",
    "from s2cnn import S2Convolution\n",
    "from s2cnn import s2_fft\n",
    "from s2cnn.utils.complex import as_complex\n",
    "\n",
    "from training_set import TrainingSet\n",
    "from data_source import DataSource\n",
    "from visualize import Visualize\n",
    "from sphere import Sphere\n",
    "from model import Model\n",
    "\n",
    "%matplotlib inline\n",
    "%load_ext autoreload\n",
    "%autoreload 2"
   ]
  },
  {
   "cell_type": "markdown",
   "metadata": {},
   "source": [
    "## Load input\n",
    "First, load the current input feature set from the disk"
   ]
  },
  {
   "cell_type": "code",
   "execution_count": 2,
   "metadata": {},
   "outputs": [
    {
     "name": "stdout",
     "output_type": "stream",
     "text": [
      "Loading anchors from:\t/media/scratch/berlukas/spherical//training_anchor_pointclouds/ and /media/scratch/berlukas/spherical//training_anchor_sph_images/\n"
     ]
    },
    {
     "data": {
      "application/vnd.jupyter.widget-view+json": {
       "model_id": "4caeb040190c41208a24d132fd9ba575",
       "version_major": 2,
       "version_minor": 0
      },
      "text/plain": [
       "HBox(children=(FloatProgress(value=0.0, max=20.0), HTML(value='')))"
      ]
     },
     "metadata": {},
     "output_type": "display_data"
    },
    {
     "name": "stdout",
     "output_type": "stream",
     "text": [
      "\n"
     ]
    },
    {
     "data": {
      "application/vnd.jupyter.widget-view+json": {
       "model_id": "1309d72400c845c6a6cad46adac6323e",
       "version_major": 2,
       "version_minor": 0
      },
      "text/plain": [
       "HBox(children=(FloatProgress(value=0.0, max=20.0), HTML(value='')))"
      ]
     },
     "metadata": {},
     "output_type": "display_data"
    },
    {
     "name": "stdout",
     "output_type": "stream",
     "text": [
      "\n",
      "Loading positives from:\t/media/scratch/berlukas/spherical//training_positive_pointclouds/ and /media/scratch/berlukas/spherical//training_positive_sph_images/\n"
     ]
    },
    {
     "data": {
      "application/vnd.jupyter.widget-view+json": {
       "model_id": "622ebb10d4934db3a8a90d2fda9dde91",
       "version_major": 2,
       "version_minor": 0
      },
      "text/plain": [
       "HBox(children=(FloatProgress(value=0.0, max=20.0), HTML(value='')))"
      ]
     },
     "metadata": {},
     "output_type": "display_data"
    },
    {
     "name": "stdout",
     "output_type": "stream",
     "text": [
      "\n"
     ]
    },
    {
     "data": {
      "application/vnd.jupyter.widget-view+json": {
       "model_id": "958113d2c52b4768b16c320c8b6b34e8",
       "version_major": 2,
       "version_minor": 0
      },
      "text/plain": [
       "HBox(children=(FloatProgress(value=0.0, max=20.0), HTML(value='')))"
      ]
     },
     "metadata": {},
     "output_type": "display_data"
    },
    {
     "name": "stdout",
     "output_type": "stream",
     "text": [
      "\n",
      "Loading negatives from:\t/media/scratch/berlukas/spherical//training_negative_pointclouds/ and /media/scratch/berlukas/spherical//training_negative_sph_images/\n"
     ]
    },
    {
     "data": {
      "application/vnd.jupyter.widget-view+json": {
       "model_id": "89cce4323a884661a677e717e055824e",
       "version_major": 2,
       "version_minor": 0
      },
      "text/plain": [
       "HBox(children=(FloatProgress(value=0.0, max=20.0), HTML(value='')))"
      ]
     },
     "metadata": {},
     "output_type": "display_data"
    },
    {
     "name": "stdout",
     "output_type": "stream",
     "text": [
      "\n"
     ]
    },
    {
     "data": {
      "application/vnd.jupyter.widget-view+json": {
       "model_id": "fc7a29f5347346da8e1550343a63bc72",
       "version_major": 2,
       "version_minor": 0
      },
      "text/plain": [
       "HBox(children=(FloatProgress(value=0.0, max=20.0), HTML(value='')))"
      ]
     },
     "metadata": {},
     "output_type": "display_data"
    },
    {
     "name": "stdout",
     "output_type": "stream",
     "text": [
      "\n",
      "Done loading dataset.\n",
      "\tAnchor point clouds total: \t20\n",
      "\tAnchor images total: \t\t20\n",
      "\tAnchor poses total: \t\t20\n",
      "\tPositive point clouds total: \t20\n",
      "\tPositive images total: \t\t20\n",
      "\tPositive poses total: \t\t20\n",
      "\tNegative point clouds total: \t20\n",
      "\tNegative images total: \t\t20\n",
      "\tNegative poses total: \t\t20\n",
      "Generating anchor spheres\n"
     ]
    },
    {
     "data": {
      "application/vnd.jupyter.widget-view+json": {
       "model_id": "3ede605a32034ba2ae2709a28662e31e",
       "version_major": 2,
       "version_minor": 0
      },
      "text/plain": [
       "HBox(children=(FloatProgress(value=0.0, max=20.0), HTML(value='')))"
      ]
     },
     "metadata": {},
     "output_type": "display_data"
    },
    {
     "name": "stdout",
     "output_type": "stream",
     "text": [
      "\n",
      "Generating positive spheres\n"
     ]
    },
    {
     "data": {
      "application/vnd.jupyter.widget-view+json": {
       "model_id": "300edc28cee443b2be748da3f6e0752b",
       "version_major": 2,
       "version_minor": 0
      },
      "text/plain": [
       "HBox(children=(FloatProgress(value=0.0, max=20.0), HTML(value='')))"
      ]
     },
     "metadata": {},
     "output_type": "display_data"
    },
    {
     "name": "stdout",
     "output_type": "stream",
     "text": [
      "\n",
      "Generating negative spheres\n"
     ]
    },
    {
     "data": {
      "application/vnd.jupyter.widget-view+json": {
       "model_id": "84f7455039384c8a8cccc7ce638d7ab9",
       "version_major": 2,
       "version_minor": 0
      },
      "text/plain": [
       "HBox(children=(FloatProgress(value=0.0, max=20.0), HTML(value='')))"
      ]
     },
     "metadata": {},
     "output_type": "display_data"
    },
    {
     "name": "stdout",
     "output_type": "stream",
     "text": [
      "\n",
      "Generated features\n",
      "Generating features from 0 to 20\n",
      "Total size:  20\n"
     ]
    }
   ],
   "source": [
    "restore = False\n",
    "bandwidth = 100\n",
    "dataset_path = \"/media/scratch/berlukas/spherical/\"\n",
    "#dataset_path = \"/home/berlukas/data/arche_low_res/\"\n",
    "\n",
    "n_test_data = 20\n",
    "n_test_cache = n_test_data\n",
    "ds_test = DataSource(dataset_path, n_test_cache, -1)\n",
    "ds_test.load(n_test_data)\n",
    "n_test_data = len(ds_test.anchors)\n",
    "test_set = TrainingSet(restore, bandwidth)\n",
    "test_set.generateAll(ds_test)\n",
    "n_test_set = len(test_set)\n",
    "print(\"Total size: \", n_test_set)"
   ]
  },
  {
   "cell_type": "markdown",
   "metadata": {},
   "source": [
    "## Perform a S2 transform of the features\n"
   ]
  },
  {
   "cell_type": "code",
   "execution_count": 8,
   "metadata": {},
   "outputs": [
    {
     "name": "stdout",
     "output_type": "stream",
     "text": [
      "0\n",
      "torch.Size([200, 200])\n",
      "torch.Size([200, 200, 2])\n"
     ]
    }
   ],
   "source": [
    "loader = torch.utils.data.DataLoader(test_set, batch_size=1, shuffle=False, num_workers=1, pin_memory=True, drop_last=False)\n",
    "\n",
    "coeff = None\n",
    "for batch_idx, data in enumerate(loader): \n",
    "    print(batch_idx)\n",
    "    #s2_fft.S2_fft_real.apply(data[0], 50)\n",
    "    a = data[0].float()[0,2,:,:]\n",
    "    p = data[1].float()[0,2,:,:]\n",
    "    n = data[2].float()[0,2,:,:]\n",
    "    print(a.shape)\n",
    "    print(as_complex(a).shape)\n",
    "    #A = s2_fft.s2_fft(as_complex(a))\n",
    "    #print(A.shape)\n",
    "    #print(A[0,:])\n",
    "    if batch_idx == 0:\n",
    "        break\n"
   ]
  },
  {
   "cell_type": "code",
   "execution_count": 9,
   "metadata": {},
   "outputs": [
    {
     "data": {
      "image/png": "[encoded data removed]",
      "text/plain": [
       "<Figure size 432x288 with 1 Axes>"
      ]
     },
     "metadata": {
      "needs_background": "light"
     },
     "output_type": "display_data"
    }
   ],
   "source": [
    "a_t = torch.transpose(a, 0,1)\n",
    "#grid = as_complex(torch.transpose(a, 0,1))\n",
    "#grid = torch.reshape(grid, (grid.size(2), grid.size(0), grid.size(1)))\n",
    "#a_grid = pyshtools.expand.MakeGridDH(grid, sampling=1)\n",
    "a_coeffs = pyshtools.expand.SHExpandDH(a, sampling=1)\n",
    "power_per_l = pyshtools.spectralanalysis.spectrum(a_coeffs)\n",
    "degrees = np.arange(a_coeffs.shape[1])\n",
    "\n",
    "fig, ax = plt.subplots(1, 1)\n",
    "ax.plot(degrees, power_per_l)\n",
    "ax.set(yscale='log', xscale='log', xlabel='Spherical harmonic degree', ylabel='Power')\n",
    "ax.grid()"
   ]
  },
  {
   "cell_type": "code",
   "execution_count": 171,
   "metadata": {},
   "outputs": [
    {
     "name": "stdout",
     "output_type": "stream",
     "text": [
      "Probability of being correlated at 1 is 0.9208631767312014\n",
      "Probability of being correlated at 2 is 0.994828039051865\n",
      "Probability of being correlated at 3 is 0.9993786946071705\n",
      "Probability of being correlated at 4 is 0.9999357643685939\n",
      "Probability of being correlated at 5 is 0.9998278487653118\n",
      "Probability of being correlated at 6 is 0.9999325166071056\n",
      "Probability of being correlated at 7 is 0.999751929540683\n",
      "Probability of being correlated at 8 is 0.9996985251945659\n",
      "Probability of being correlated at 9 is 0.9954535968556658\n",
      "Probability of being correlated at 10 is 0.9992955215841378\n",
      "Probability of being correlated at 11 is 0.9659449820369462\n",
      "Probability of being correlated at 12 is 0.9192705062044991\n",
      "Probability of being correlated at 13 is 0.9796034537027054\n",
      "Probability of being correlated at 14 is 0.6201637878259286\n",
      "Probability of being correlated at 15 is 0.8081261237405976\n",
      "Probability of being correlated at 16 is 0.9362324683439375\n",
      "Probability of being correlated at 17 is 0.9877686506633152\n",
      "Probability of being correlated at 18 is 0.6465942281538342\n",
      "Probability of being correlated at 19 is 0.9726562698516925\n",
      "Probability of being correlated at 20 is 0.5121860019540008\n",
      "Probability of being correlated at 21 is 0.8786845906082259\n",
      "Probability of being correlated at 22 is 0.629572908392078\n",
      "Probability of being correlated at 23 is 0.845728958461228\n",
      "Probability of being correlated at 24 is 0.3570380409867412\n",
      "Probability of being correlated at 25 is 0.8443030692121051\n",
      "Probability of being correlated at 26 is 0.10844737748779082\n",
      "Probability of being correlated at 27 is 0.5493822711875771\n",
      "Probability of being correlated at 28 is 0.7248554362029871\n",
      "Probability of being correlated at 29 is 0.7375547473018957\n",
      "Probability of being correlated at 30 is 0.9899416767018757\n",
      "Probability of being correlated at 31 is 0.9322646345891163\n",
      "Probability of being correlated at 32 is 0.9990213119176713\n",
      "Probability of being correlated at 33 is 0.9988010433964064\n",
      "Probability of being correlated at 34 is 0.997021615974616\n",
      "Probability of being correlated at 35 is 0.985025084876316\n",
      "Probability of being correlated at 36 is 0.9992449631335848\n",
      "Probability of being correlated at 37 is 0.8430205200780054\n",
      "Probability of being correlated at 38 is 0.3065995240007373\n",
      "Probability of being correlated at 39 is 0.28180516572655406\n",
      "Probability of being correlated at 40 is 0.5734386189373192\n",
      "Probability of being correlated at 41 is 0.9582556483225476\n",
      "Probability of being correlated at 42 is 0.593656100885393\n",
      "Probability of being correlated at 43 is 0.8555161907678166\n",
      "Probability of being correlated at 44 is 0.7550220341097541\n",
      "Probability of being correlated at 45 is 0.19365005604021135\n",
      "Probability of being correlated at 46 is 0.7453070692984587\n",
      "Probability of being correlated at 47 is 0.9843235406718227\n",
      "Probability of being correlated at 48 is 0.9990857701980258\n",
      "Probability of being correlated at 49 is 0.4220690537460568\n",
      "Probability of being correlated at 50 is 0.7183408279699197\n",
      "Probability of being correlated at 51 is 0.9084880610192494\n",
      "Probability of being correlated at 52 is 0.7036187786759943\n",
      "Probability of being correlated at 53 is 0.08555021113245063\n",
      "Probability of being correlated at 54 is 0.24387445803021396\n",
      "Probability of being correlated at 55 is 0.5711709644422955\n",
      "Probability of being correlated at 56 is 0.06094344691318349\n",
      "Probability of being correlated at 57 is 0.32495365432384393\n",
      "Probability of being correlated at 58 is 0.3872782476360914\n",
      "Probability of being correlated at 59 is 0.3337553367771074\n",
      "Probability of being correlated at 60 is 0.5340323436967105\n",
      "Probability of being correlated at 61 is 0.11818187936983408\n",
      "Probability of being correlated at 62 is 0.7450471681559111\n",
      "Probability of being correlated at 63 is 0.9999633455828304\n",
      "Probability of being correlated at 64 is 0.9409810414282835\n",
      "Probability of being correlated at 65 is 0.999815537005497\n",
      "Probability of being correlated at 66 is 0.9950104923881681\n",
      "Probability of being correlated at 67 is 0.9999981298624757\n",
      "Probability of being correlated at 68 is 0.9999733528133298\n",
      "Probability of being correlated at 69 is 0.38924665947162995\n",
      "Probability of being correlated at 70 is 0.4521391498295322\n",
      "Probability of being correlated at 71 is 0.9898772445412239\n",
      "Probability of being correlated at 72 is 0.9754638498676975\n",
      "Probability of being correlated at 73 is 0.2862123150350957\n",
      "Probability of being correlated at 74 is 0.3293597676323333\n",
      "Probability of being correlated at 75 is 0.8188668512350361\n",
      "Probability of being correlated at 76 is 0.8693424546102695\n",
      "Probability of being correlated at 77 is 0.7988894713703641\n",
      "Probability of being correlated at 78 is 0.8343397330509913\n",
      "Probability of being correlated at 79 is 0.9704950173512589\n",
      "Probability of being correlated at 80 is 0.6801044828394148\n",
      "Probability of being correlated at 81 is 0.5412939754085079\n",
      "Probability of being correlated at 82 is 0.25210680397915114\n",
      "Probability of being correlated at 83 is 0.35108406663718905\n",
      "Probability of being correlated at 84 is 0.10677404950577572\n",
      "Probability of being correlated at 85 is 0.8651315435296426\n",
      "Probability of being correlated at 86 is 0.8481658869100044\n",
      "Probability of being correlated at 87 is 0.6112844778672658\n",
      "Probability of being correlated at 88 is 0.8469660691757817\n",
      "Probability of being correlated at 89 is 0.6863691438855601\n",
      "Probability of being correlated at 90 is 0.586585948286134\n",
      "Probability of being correlated at 91 is 0.012704570376400248\n",
      "Probability of being correlated at 92 is 0.39732813366750436\n",
      "Probability of being correlated at 93 is 0.08010019235856833\n",
      "Probability of being correlated at 94 is 0.5192277191651574\n",
      "Probability of being correlated at 95 is 0.3116583948527483\n",
      "Probability of being correlated at 96 is 0.7385475594118907\n",
      "Probability of being correlated at 97 is 0.6960147542521737\n",
      "Probability of being correlated at 98 is 0.2385973418720068\n",
      "Probability of being correlated at 99 is 0.28315644169410253\n"
     ]
    },
    {
     "data": {
      "image/png": "[encoded data removed]",
      "text/plain": [
       "<Figure size 432x288 with 1 Axes>"
      ]
     },
     "metadata": {
      "needs_background": "light"
     },
     "output_type": "display_data"
    }
   ],
   "source": [
    "p_t = torch.transpose(p, 0,1)\n",
    "#grid = as_complex(torch.transpose(p, 0,1))\n",
    "#grid = torch.reshape(grid, (grid.size(2), grid.size(0), grid.size(1)))\n",
    "#p_grid = pyshtools.expand.MakeGridDH(grid, sampling=1)\n",
    "p_coeffs = pyshtools.expand.SHExpandDH(p, sampling=1)\n",
    "power_per_l = spectralanalysis.cross_spectrum(a_coeffs, p_coeffs, normalization='schmidt', convention='energy')\n",
    "degrees = np.arange(a_coeffs.shape[1])\n",
    "\n",
    "fig, ax = plt.subplots(1, 1)\n",
    "ax.plot(degrees, power_per_l)\n",
    "ax.set(yscale='log', xscale='log', xlabel='Spherical harmonic degree', ylabel='Power')\n",
    "ax.grid()\n",
    "\n",
    "admit, error, corr = spectralanalysis.SHAdmitCorr(a_coeffs, p_coeffs)\n",
    "for i in range(0, 100):\n",
    "    prob = spectralanalysis.SHConfidence(i, corr[i])\n",
    "    if (prob < 1.0):\n",
    "        print(f'Probability of being correlated at {i} is {prob}')"
   ]
  },
  {
   "cell_type": "code",
   "execution_count": 172,
   "metadata": {},
   "outputs": [
    {
     "name": "stdout",
     "output_type": "stream",
     "text": [
      "Probability of being correlated at 1 is 0.2531631323573318\n",
      "Probability of being correlated at 2 is 0.50906865929204\n",
      "Probability of being correlated at 3 is 0.26853048016664405\n",
      "Probability of being correlated at 4 is 0.03440372851365661\n",
      "Probability of being correlated at 5 is 0.7531996583173026\n",
      "Probability of being correlated at 6 is 0.5038592943738656\n",
      "Probability of being correlated at 7 is 0.46258544869206225\n",
      "Probability of being correlated at 8 is 0.6494038092630534\n",
      "Probability of being correlated at 9 is 0.7791951177011801\n",
      "Probability of being correlated at 10 is 0.8022510218039793\n",
      "Probability of being correlated at 11 is 0.1322647525130245\n",
      "Probability of being correlated at 12 is 0.5673545692768612\n",
      "Probability of being correlated at 13 is 0.8595268424480458\n",
      "Probability of being correlated at 14 is 0.2858215836922526\n",
      "Probability of being correlated at 15 is 0.5791100610814872\n",
      "Probability of being correlated at 16 is 0.14459269637492467\n",
      "Probability of being correlated at 17 is 0.7994138472025292\n",
      "Probability of being correlated at 18 is 0.18399959548463937\n",
      "Probability of being correlated at 19 is 0.7302584582627649\n",
      "Probability of being correlated at 20 is 0.5606473108351886\n",
      "Probability of being correlated at 21 is 0.9129286689732355\n",
      "Probability of being correlated at 22 is 0.12827580920488194\n",
      "Probability of being correlated at 23 is 0.8753851546668524\n",
      "Probability of being correlated at 24 is 0.7015855181165925\n",
      "Probability of being correlated at 25 is 0.8506064584571171\n",
      "Probability of being correlated at 26 is 0.6579309986278398\n",
      "Probability of being correlated at 27 is 0.6933493251879329\n",
      "Probability of being correlated at 28 is 0.33361252227294413\n",
      "Probability of being correlated at 29 is 0.9488462362340677\n",
      "Probability of being correlated at 30 is 0.20376700309387988\n",
      "Probability of being correlated at 31 is 0.4398204660904776\n",
      "Probability of being correlated at 32 is 0.5870734357454536\n",
      "Probability of being correlated at 33 is 0.1765284909016046\n",
      "Probability of being correlated at 34 is 0.9805554867461134\n",
      "Probability of being correlated at 35 is 0.8088054844441297\n",
      "Probability of being correlated at 36 is 0.8534590503069313\n",
      "Probability of being correlated at 37 is 0.28334440565438507\n",
      "Probability of being correlated at 38 is 0.5491626991808686\n",
      "Probability of being correlated at 39 is 0.9924227240599328\n",
      "Probability of being correlated at 40 is 0.27275694458926797\n",
      "Probability of being correlated at 41 is 0.05889708736760835\n",
      "Probability of being correlated at 42 is 0.177498751332674\n",
      "Probability of being correlated at 43 is 0.8319624795567779\n",
      "Probability of being correlated at 44 is 0.8317686793983482\n",
      "Probability of being correlated at 45 is 0.6095842574202718\n",
      "Probability of being correlated at 46 is 0.09001280144713825\n",
      "Probability of being correlated at 47 is 0.6641469177412477\n",
      "Probability of being correlated at 48 is 0.03593622100756279\n",
      "Probability of being correlated at 49 is 0.877828166326454\n",
      "Probability of being correlated at 50 is 0.16804959932403588\n",
      "Probability of being correlated at 51 is 0.2477856071219654\n",
      "Probability of being correlated at 52 is 0.9395370033032803\n",
      "Probability of being correlated at 53 is 0.6009494405146382\n",
      "Probability of being correlated at 54 is 0.428973213612714\n",
      "Probability of being correlated at 55 is 0.4204465718767737\n",
      "Probability of being correlated at 56 is 0.14142176536562445\n",
      "Probability of being correlated at 57 is 0.705331615327057\n",
      "Probability of being correlated at 58 is 0.14740404257348583\n",
      "Probability of being correlated at 59 is 0.7033924458471947\n",
      "Probability of being correlated at 60 is 0.1991128392997041\n",
      "Probability of being correlated at 61 is 0.8029211732458429\n",
      "Probability of being correlated at 62 is 0.35352181977839353\n",
      "Probability of being correlated at 63 is 0.6791576112761504\n",
      "Probability of being correlated at 64 is 0.3720177793829521\n",
      "Probability of being correlated at 65 is 0.5465849047048803\n",
      "Probability of being correlated at 66 is 0.9381776452556955\n",
      "Probability of being correlated at 67 is 0.3636695085362798\n",
      "Probability of being correlated at 68 is 0.7780135401307191\n",
      "Probability of being correlated at 69 is 0.09102009776431295\n",
      "Probability of being correlated at 70 is 0.9486622019255877\n",
      "Probability of being correlated at 71 is 0.5470724377647685\n",
      "Probability of being correlated at 72 is 0.05168885894516718\n",
      "Probability of being correlated at 73 is 0.9712797943965674\n",
      "Probability of being correlated at 74 is 0.9493151502410132\n",
      "Probability of being correlated at 75 is 0.12270875660926424\n",
      "Probability of being correlated at 76 is 0.15314312853899892\n",
      "Probability of being correlated at 77 is 0.9571153036604412\n",
      "Probability of being correlated at 78 is 0.704353815964753\n",
      "Probability of being correlated at 79 is 0.951001311999613\n",
      "Probability of being correlated at 80 is 0.8198609243597189\n",
      "Probability of being correlated at 81 is 0.47951799247699345\n",
      "Probability of being correlated at 82 is 0.6164850974783439\n",
      "Probability of being correlated at 83 is 0.6624024037026052\n",
      "Probability of being correlated at 84 is 0.823513032319996\n",
      "Probability of being correlated at 85 is 0.44674829054776133\n",
      "Probability of being correlated at 86 is 0.6397207268493406\n",
      "Probability of being correlated at 87 is 0.8460256758601055\n",
      "Probability of being correlated at 88 is 0.6362090081510084\n",
      "Probability of being correlated at 89 is 0.7819965051261616\n",
      "Probability of being correlated at 90 is 0.03875985186722622\n",
      "Probability of being correlated at 91 is 0.728038267943382\n",
      "Probability of being correlated at 92 is 0.3143121513325635\n",
      "Probability of being correlated at 93 is 0.9140236450554912\n",
      "Probability of being correlated at 94 is 0.3503405835591438\n",
      "Probability of being correlated at 95 is 0.16475886969358286\n",
      "Probability of being correlated at 96 is 0.662994117992829\n",
      "Probability of being correlated at 97 is 0.7051915247456412\n",
      "Probability of being correlated at 98 is 0.24872551547690988\n",
      "Probability of being correlated at 99 is 0.30333223215918387\n"
     ]
    },
    {
     "data": {
      "image/png": "[encoded data removed]",
      "text/plain": [
       "<Figure size 432x288 with 1 Axes>"
      ]
     },
     "metadata": {
      "needs_background": "light"
     },
     "output_type": "display_data"
    }
   ],
   "source": [
    "n_t = torch.transpose(n, 0,1)\n",
    "#grid = as_complex(torch.transpose(n, 0,1))\n",
    "#grid = torch.reshape(grid, (grid.size(2), grid.size(0), grid.size(1)))\n",
    "#n_grid = pyshtools.expand.MakeGridDH(grid, sampling=1)\n",
    "n_coeffs = pyshtools.expand.SHExpandDH(n, sampling=1)\n",
    "power_per_l = spectralanalysis.cross_spectrum(a_coeffs, n_coeffs, normalization='schmidt', convention='energy')\n",
    "degrees = np.arange(a_coeffs.shape[1])\n",
    "\n",
    "fig, ax = plt.subplots(1, 1)\n",
    "ax.plot(degrees, power_per_l)\n",
    "ax.set(yscale='log', xscale='log', xlabel='Spherical harmonic degree', ylabel='Power')\n",
    "ax.grid()\n",
    "\n",
    "\n",
    "admit, error, corr = spectralanalysis.SHAdmitCorr(a_coeffs, n_coeffs)\n",
    "for i in range(0, 100):\n",
    "    prob = spectralanalysis.SHConfidence(i, corr[i])\n",
    "    if (prob < 1.0):\n",
    "        print(f'Probability of being correlated at {i} is {prob}')"
   ]
  }
 ],
 "metadata": {
  "kernelspec": {
   "display_name": "Python 3",
   "language": "python",
   "name": "python3"
  },
  "language_info": {
   "codemirror_mode": {
    "name": "ipython",
    "version": 3
   },
   "file_extension": ".py",
   "mimetype": "text/x-python",
   "name": "python",
   "nbconvert_exporter": "python",
   "pygments_lexer": "ipython3",
   "version": "3.6.7"
  }
 },
 "nbformat": 4,
 "nbformat_minor": 4
}
