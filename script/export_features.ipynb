{
 "cells": [
  {
   "cell_type": "markdown",
   "metadata": {},
   "source": [
    "# Feature Exportation for the Dataset\n",
    "This script reads a given dataset, converts to S^2 features and exports them all."
   ]
  },
  {
   "cell_type": "code",
   "execution_count": 1,
   "metadata": {},
   "outputs": [],
   "source": [
    "from data_source import DataSource\n",
    "from visualize import Visualize\n",
    "from sphere import Sphere\n",
    "from model import Model\n",
    "from loss import TripletLoss, ImprovedTripletLoss\n",
    "from training_set import TrainingSet\n",
    "from average_meter import AverageMeter\n",
    "from data_splitter import DataSplitter\n",
    "from feature_set import FeatureSet\n",
    "\n",
    "import torch\n",
    "import torch.nn.functional as F\n",
    "import torchvision\n",
    "import torchvision.transforms as transforms\n",
    "from torch.autograd import Variable\n",
    "from torch.utils.tensorboard import SummaryWriter\n",
    "from torchsummary import summary\n",
    "\n",
    "import sys\n",
    "import time\n",
    "import math\n",
    "import numpy as np\n",
    "import pandas as pd\n",
    "import open3d as o3d\n",
    "import matplotlib.pyplot as plt\n",
    "from matplotlib.backends.backend_pdf import PdfPages\n",
    "\n",
    "from tqdm.auto import tqdm\n",
    "from scipy import spatial\n",
    "%reload_ext autoreload\n",
    "%autoreload 2"
   ]
  },
  {
   "cell_type": "markdown",
   "metadata": {},
   "source": [
    "## Read initial dataset and compute feature vectors"
   ]
  },
  {
   "cell_type": "code",
   "execution_count": 4,
   "metadata": {},
   "outputs": [
    {
     "name": "stdout",
     "output_type": "stream",
     "text": [
      "Loading anchors from:\t/media/scratch/berlukas/spherical/training_anchor_pointclouds/ and /media/scratch/berlukas/spherical/training_anchor_sph_images/\n",
      "Loading positives from:\t/media/scratch/berlukas/spherical/training_positive_pointclouds/ and /media/scratch/berlukas/spherical/training_positive_sph_images/\n",
      "Loading negatives from:\t/media/scratch/berlukas/spherical/training_negative_pointclouds/ and /media/scratch/berlukas/spherical/training_negative_sph_images/\n",
      "Done loading dataset.\n",
      "\tAnchor point clouds total: \t10\n",
      "\tAnchor images total: \t\t10\n",
      "\tAnchor poses total: \t\t0\n",
      "\tPositive point clouds total: \t10\n",
      "\tPositive images total: \t\t10\n",
      "\tPositive poses total: \t\t0\n",
      "\tNegative point clouds total: \t10\n",
      "\tNegative images total: \t\t10\n",
      "\tNegative poses total: \t\t0\n"
     ]
    }
   ],
   "source": [
    "n_data = 10\n",
    "skip_between = 0\n",
    "ds = DataSource('/media/scratch/berlukas/spherical', n_data, skip_between)\n",
    "ds.load(n_data)\n",
    "n_data = len(ds.anchors)"
   ]
  },
  {
   "cell_type": "code",
   "execution_count": 5,
   "metadata": {},
   "outputs": [
    {
     "name": "stdout",
     "output_type": "stream",
     "text": [
      "Generating anchor spheres\n"
     ]
    },
    {
     "data": {
      "application/vnd.jupyter.widget-view+json": {
       "model_id": "eb62501c3d8f4b3587f94a2530333bd1",
       "version_major": 2,
       "version_minor": 0
      },
      "text/plain": [
       "HBox(children=(FloatProgress(value=0.0, max=10.0), HTML(value='')))"
      ]
     },
     "metadata": {},
     "output_type": "display_data"
    },
    {
     "name": "stdout",
     "output_type": "stream",
     "text": [
      "\n",
      "Generating positive spheres\n"
     ]
    },
    {
     "data": {
      "application/vnd.jupyter.widget-view+json": {
       "model_id": "0ed3d0c33a2e43ecba8a94f864ea2e1a",
       "version_major": 2,
       "version_minor": 0
      },
      "text/plain": [
       "HBox(children=(FloatProgress(value=0.0, max=10.0), HTML(value='')))"
      ]
     },
     "metadata": {},
     "output_type": "display_data"
    },
    {
     "name": "stdout",
     "output_type": "stream",
     "text": [
      "\n",
      "Generating negative spheres\n"
     ]
    },
    {
     "data": {
      "application/vnd.jupyter.widget-view+json": {
       "model_id": "e3cea6fe3d114a8d9cc5c23b500bec63",
       "version_major": 2,
       "version_minor": 0
      },
      "text/plain": [
       "HBox(children=(FloatProgress(value=0.0, max=10.0), HTML(value='')))"
      ]
     },
     "metadata": {},
     "output_type": "display_data"
    },
    {
     "name": "stdout",
     "output_type": "stream",
     "text": [
      "\n",
      "Generated features\n",
      "Total size:  10\n"
     ]
    }
   ],
   "source": [
    "restore = False\n",
    "bandwidth = 100\n",
    "training_set = TrainingSet(ds, restore, bandwidth)\n",
    "training_set.generateAll()\n",
    "print(\"Total size: \", len(training_set))"
   ]
  },
  {
   "cell_type": "markdown",
   "metadata": {},
   "source": [
    "## Export the generated feature vectors as PLYs"
   ]
  },
  {
   "cell_type": "code",
   "execution_count": 14,
   "metadata": {},
   "outputs": [
    {
     "data": {
      "application/vnd.jupyter.widget-view+json": {
       "model_id": "4cb36e1a7ec849dbab1ed70ac4d23624",
       "version_major": 2,
       "version_minor": 0
      },
      "text/plain": [
       "HBox(children=(FloatProgress(value=0.0, max=10.0), HTML(value='')))"
      ]
     },
     "metadata": {},
     "output_type": "display_data"
    },
    {
     "name": "stdout",
     "output_type": "stream",
     "text": [
      "\n"
     ]
    }
   ],
   "source": [
    "export_path = '/media/scratch/berlukas/exported_features'\n",
    "training_set.exportGeneratedFeatures(export_path)"
   ]
  },
  {
   "cell_type": "markdown",
   "metadata": {},
   "source": [
    "# Testing\n",
    "\n",
    "The following is not part of the exportation anymore. \n",
    "\n",
    "## Load the exported features "
   ]
  },
  {
   "cell_type": "code",
   "execution_count": 14,
   "metadata": {},
   "outputs": [
    {
     "data": {
      "text/plain": [
       "array([[0.00195312, 0.00195312, 0.00195312, ..., 0.        , 0.        ,\n",
       "        0.        ],\n",
       "       [0.00195312, 0.00195312, 0.00195312, ..., 0.        , 0.        ,\n",
       "        0.        ],\n",
       "       [0.00195312, 0.00195312, 0.00195312, ..., 0.        , 0.        ,\n",
       "        0.        ],\n",
       "       ...,\n",
       "       [0.        , 0.        , 0.        , ..., 0.        , 0.        ,\n",
       "        0.        ],\n",
       "       [0.        , 0.        , 0.        , ..., 0.        , 0.        ,\n",
       "        0.        ],\n",
       "       [0.        , 0.        , 0.        , ..., 0.        , 0.        ,\n",
       "        0.        ]])"
      ]
     },
     "execution_count": 14,
     "metadata": {},
     "output_type": "execute_result"
    }
   ],
   "source": [
    "import pandas as pd\n",
    "df = pd.read_csv(f'{export_path}/anchor/000000000000099.csv')\n",
    "np.array(df.intensities).reshape([200,200])\n",
    "np.array(df.ranges).reshape([200,200])"
   ]
  },
  {
   "cell_type": "code",
   "execution_count": 29,
   "metadata": {},
   "outputs": [
    {
     "name": "stdout",
     "output_type": "stream",
     "text": [
      "Loading anchor features from:  /media/scratch/berlukas/spherical/training_exported_features/anchor/*.csv\n"
     ]
    },
    {
     "data": {
      "application/vnd.jupyter.widget-view+json": {
       "model_id": "de85b46e672c4a9c886f3446ef9c2284",
       "version_major": 2,
       "version_minor": 0
      },
      "text/plain": [
       "HBox(children=(FloatProgress(value=0.0, max=2.0), HTML(value='')))"
      ]
     },
     "metadata": {},
     "output_type": "display_data"
    },
    {
     "name": "stdout",
     "output_type": "stream",
     "text": [
      "\n",
      "Loading positive features from:  /media/scratch/berlukas/spherical/training_exported_features/positive/*.csv\n"
     ]
    },
    {
     "data": {
      "application/vnd.jupyter.widget-view+json": {
       "model_id": "e47ac65b3fda4b929653fbbc50862c53",
       "version_major": 2,
       "version_minor": 0
      },
      "text/plain": [
       "HBox(children=(FloatProgress(value=0.0, max=2.0), HTML(value='')))"
      ]
     },
     "metadata": {},
     "output_type": "display_data"
    },
    {
     "name": "stdout",
     "output_type": "stream",
     "text": [
      "\n",
      "Loading negative features from:  /media/scratch/berlukas/spherical/training_exported_features/negative/*.csv\n"
     ]
    },
    {
     "data": {
      "application/vnd.jupyter.widget-view+json": {
       "model_id": "6207642c8dc9494fb381c0e1b29ef0b2",
       "version_major": 2,
       "version_minor": 0
      },
      "text/plain": [
       "HBox(children=(FloatProgress(value=0.0, max=2.0), HTML(value='')))"
      ]
     },
     "metadata": {},
     "output_type": "display_data"
    },
    {
     "name": "stdout",
     "output_type": "stream",
     "text": [
      "\n",
      "Total size:  100\n",
      "First anchor shape: (2, 200, 200)\n"
     ]
    }
   ],
   "source": [
    "feature_set = FeatureSet(export_path, bandwidth)\n",
    "print(\"Total size: \", len(feature_set))\n",
    "\n",
    "first_anchor=feature_set.anchor_features[0]\n",
    "print(\"First anchor shape:\", first_anchor.shape)"
   ]
  },
  {
   "cell_type": "markdown",
   "metadata": {},
   "source": [
    "## Load the transformed features"
   ]
  },
  {
   "cell_type": "code",
   "execution_count": 21,
   "metadata": {},
   "outputs": [
    {
     "data": {
      "application/vnd.jupyter.widget-view+json": {
       "model_id": "2202f6aa93c247919b8894aaf59acb3d",
       "version_major": 2,
       "version_minor": 0
      },
      "text/plain": [
       "HBox(children=(FloatProgress(value=0.0, max=10.0), HTML(value='')))"
      ]
     },
     "metadata": {},
     "output_type": "display_data"
    },
    {
     "name": "stdout",
     "output_type": "stream",
     "text": [
      "\n"
     ]
    }
   ],
   "source": [
    "training_set2 = TrainingSet(ds, restore, bandwidth)\n",
    "training_set2.loadTransformedFeatures('/media/scratch/berlukas/transformed_features')"
   ]
  },
  {
   "cell_type": "code",
   "execution_count": 23,
   "metadata": {},
   "outputs": [
    {
     "name": "stdout",
     "output_type": "stream",
     "text": [
      "First anchor shape: (3, 100, 100)\n"
     ]
    }
   ],
   "source": [
    "first_anchor=training_set2.anchor_features[0]\n",
    "print(\"First anchor shape:\", first_anchor.shape)"
   ]
  }
 ],
 "metadata": {
  "kernelspec": {
   "display_name": "Python 3",
   "language": "python",
   "name": "python3"
  },
  "language_info": {
   "codemirror_mode": {
    "name": "ipython",
    "version": 3
   },
   "file_extension": ".py",
   "mimetype": "text/x-python",
   "name": "python",
   "nbconvert_exporter": "python",
   "pygments_lexer": "ipython3",
   "version": "3.6.7"
  }
 },
 "nbformat": 4,
 "nbformat_minor": 4
}
